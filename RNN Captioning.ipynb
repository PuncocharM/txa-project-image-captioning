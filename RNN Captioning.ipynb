{
 "cells": [
  {
   "cell_type": "code",
   "execution_count": 1,
   "metadata": {},
   "outputs": [],
   "source": [
    "%matplotlib inline\n",
    "import tensorflow as tf\n",
    "import numpy as np\n",
    "import time\n",
    "import pickle\n",
    "# import json\n",
    "import importlib\n",
    "import matplotlib.pyplot as plt\n",
    "\n",
    "from config import ms_coco_dir"
   ]
  },
  {
   "cell_type": "code",
   "execution_count": 2,
   "metadata": {
    "collapsed": true
   },
   "outputs": [],
   "source": [
    "# use xception descriptors\n",
    "\n",
    "xc_train = pickle.load(open(ms_coco_dir + '/descriptors/xception/xception-train2017-descriptors.pic', 'rb'))\n",
    "xc_val = pickle.load(open(ms_coco_dir + '/descriptors/xception/xception-val2017-descriptors.pic', 'rb'))\n",
    "\n",
    "descriptors_train = xc_train\n",
    "descriptors_val = xc_val"
   ]
  },
  {
   "cell_type": "markdown",
   "metadata": {},
   "source": [
    "## Train\n",
    "\n",
    "Or skip this and just load some model in the inference section"
   ]
  },
  {
   "cell_type": "code",
   "execution_count": 8,
   "metadata": {
    "collapsed": true
   },
   "outputs": [],
   "source": [
    "freq_threshold = 0\n",
    "train_size = 100\n",
    "num_steps = 50\n",
    "\n",
    "embeding_size = 200\n",
    "batch_size = 5\n",
    "lstm_size = 200\n",
    "checkpoint_path = 'checkpoints/coco-caption.ckp'\n",
    "image_descriptor_size = X_images.shape[1]"
   ]
  },
  {
   "cell_type": "code",
   "execution_count": 30,
   "metadata": {},
   "outputs": [
    {
     "name": "stdout",
     "output_type": "stream",
     "text": [
      "loading annotations into memory...\n",
      "Done (t=1.89s)\n",
      "creating index...\n",
      "index created!\n",
      "# of images 118287 # of captions 591753 # of captions per image 5.002688376575617\n",
      "Tokenization...\n",
      "... tokenization done.\n",
      "Building vocabulary...\n",
      "Saving vocab to vocab.pic\n",
      "vocab size 310\n",
      "... building vocabulary done.\n",
      "Processing captions...\n",
      "... processing captions done.\n",
      "Saving (X_captions, X_lens, Y, caption_ids) to XY.pic\n"
     ]
    }
   ],
   "source": [
    "import utils\n",
    "importlib.reload(utils)\n",
    "from utils import load_and_save_captions, load_captions_and_images\n",
    "\n",
    "load_and_save_captions(ms_coco_dir, train_size, num_steps, freq_threshold)\n",
    "X_images, X_captions, Y, X_lens, vocab_size, caption_ids = load_captions_and_images(descriptors_train)"
   ]
  },
  {
   "cell_type": "code",
   "execution_count": 10,
   "metadata": {},
   "outputs": [
    {
     "data": {
      "text/plain": [
       "((100, 2048), (100, 50), 310)"
      ]
     },
     "execution_count": 10,
     "metadata": {},
     "output_type": "execute_result"
    }
   ],
   "source": [
    "X_images.shape, X_captions.shape, vocab_size"
   ]
  },
  {
   "cell_type": "code",
   "execution_count": 11,
   "metadata": {
    "collapsed": true
   },
   "outputs": [],
   "source": [
    "from lstm_captioning_model import RNNCaptioningModel"
   ]
  },
  {
   "cell_type": "code",
   "execution_count": 12,
   "metadata": {
    "collapsed": true
   },
   "outputs": [],
   "source": [
    "tf.reset_default_graph()\n",
    "sess = tf.Session()\n",
    "model = RNNCaptioningModel(embedding_size=embeding_size, image_descriptor_size=image_descriptor_size, lstm_size=lstm_size, num_steps=num_steps, vocab_size=vocab_size, sess=sess, checkpoint_path=checkpoint_path)\n",
    "model.build(model_type='train')"
   ]
  },
  {
   "cell_type": "code",
   "execution_count": 13,
   "metadata": {},
   "outputs": [],
   "source": [
    "sess.run(tf.global_variables_initializer())\n",
    "# model.saver.restore(sess, checkpoint_path + '-final') # continue training"
   ]
  },
  {
   "cell_type": "code",
   "execution_count": 14,
   "metadata": {},
   "outputs": [
    {
     "name": "stdout",
     "output_type": "stream",
     "text": [
      "epoch 1\n",
      "training loss after 20 steps: 3.68624687195 elapsed time: 00h 00m 03s\n",
      "epoch 2\n",
      "training loss after 40 steps: 2.50168204308 elapsed time: 00h 00m 06s\n",
      "epoch 3\n",
      "training loss after 60 steps: 1.75109219551 elapsed time: 00h 00m 10s\n",
      "epoch 4\n",
      "training loss after 80 steps: 1.17539286613 elapsed time: 00h 00m 13s\n",
      "epoch 5\n",
      "training loss after 100 steps: 0.761193573475 elapsed time: 00h 00m 16s\n",
      "saved model to checkpoints/coco-caption.ckp-100\n",
      "epoch 6\n",
      "training loss after 120 steps: 0.517965734005 elapsed time: 00h 00m 21s\n",
      "epoch 7\n",
      "training loss after 140 steps: 0.380921781063 elapsed time: 00h 00m 24s\n",
      "epoch 8\n",
      "training loss after 160 steps: 0.321037262678 elapsed time: 00h 00m 28s\n",
      "epoch 9\n",
      "training loss after 180 steps: 0.304425597191 elapsed time: 00h 00m 31s\n",
      "epoch 10\n",
      "training loss after 200 steps: 0.24826925993 elapsed time: 00h 00m 34s\n",
      "saved model to checkpoints/coco-caption.ckp-200\n",
      "Finished training\n",
      "Saved final model to checkpoints/coco-caption.ckp-final\n",
      "Final training loss: 0.248269230127\n",
      "It took 00h 00m 38s\n",
      "epoch 1\n",
      "training loss after 220 steps: 0.221083134413 elapsed time: 00h 00m 03s\n",
      "epoch 2\n",
      "training loss after 240 steps: 0.209935680032 elapsed time: 00h 00m 06s\n",
      "epoch 3\n",
      "training loss after 260 steps: 0.204493954778 elapsed time: 00h 00m 09s\n",
      "epoch 4\n",
      "training loss after 280 steps: 0.200825586915 elapsed time: 00h 00m 12s\n",
      "epoch 5\n",
      "training loss after 300 steps: 0.197097375989 elapsed time: 00h 00m 16s\n",
      "saved model to checkpoints/coco-caption.ckp-300\n",
      "epoch 6\n",
      "training loss after 320 steps: 0.193802788854 elapsed time: 00h 00m 21s\n",
      "epoch 7\n",
      "training loss after 340 steps: 0.191397473216 elapsed time: 00h 00m 24s\n",
      "epoch 8\n",
      "training loss after 360 steps: 0.189301297069 elapsed time: 00h 00m 28s\n",
      "epoch 9\n",
      "training loss after 380 steps: 0.186794325709 elapsed time: 00h 00m 31s\n",
      "epoch 10\n",
      "training loss after 400 steps: 0.184457093477 elapsed time: 00h 00m 34s\n",
      "saved model to checkpoints/coco-caption.ckp-400\n",
      "epoch 11\n",
      "training loss after 420 steps: 0.182777047157 elapsed time: 00h 00m 39s\n",
      "epoch 12\n",
      "training loss after 440 steps: 0.18055345118 elapsed time: 00h 00m 42s\n",
      "epoch 13\n",
      "training loss after 460 steps: 0.178967416286 elapsed time: 00h 00m 45s\n",
      "epoch 14\n",
      "training loss after 480 steps: 0.177471369505 elapsed time: 00h 00m 49s\n",
      "epoch 15\n",
      "training loss after 500 steps: 0.175899595022 elapsed time: 00h 00m 52s\n",
      "saved model to checkpoints/coco-caption.ckp-500\n",
      "epoch 16\n",
      "training loss after 520 steps: 0.174234807491 elapsed time: 00h 00m 57s\n",
      "epoch 17\n",
      "training loss after 540 steps: 0.173267692327 elapsed time: 00h 01m 00s\n",
      "epoch 18\n",
      "training loss after 560 steps: 0.171786159277 elapsed time: 00h 01m 04s\n",
      "epoch 19\n",
      "training loss after 580 steps: 0.170679762959 elapsed time: 00h 01m 07s\n",
      "epoch 20\n",
      "training loss after 600 steps: 0.169065818191 elapsed time: 00h 01m 10s\n",
      "saved model to checkpoints/coco-caption.ckp-600\n",
      "Finished training\n",
      "Saved final model to checkpoints/coco-caption.ckp-final\n",
      "Final training loss: 0.169065847993\n",
      "It took 00h 01m 15s\n"
     ]
    }
   ],
   "source": [
    "n_epochs = 10\n",
    "learning_rate = 0.001\n",
    "model.train(X_images, X_captions, Y, X_lens, n_epochs, batch_size, learning_rate, evaluate_every=20, save_every=100)\n",
    "\n",
    "n_epochs = 20\n",
    "learning_rate = 0.0001\n",
    "model.train(X_images, X_captions, Y, X_lens, n_epochs, batch_size, learning_rate, evaluate_every=20, save_every=100)"
   ]
  },
  {
   "cell_type": "code",
   "execution_count": 15,
   "metadata": {},
   "outputs": [
    {
     "data": {
      "text/plain": [
       "[<matplotlib.lines.Line2D at 0x6dde24e0>]"
      ]
     },
     "execution_count": 15,
     "metadata": {},
     "output_type": "execute_result"
    },
    {
     "data": {
      "image/png": "[encoded data removed]",
      "text/plain": [
       "<matplotlib.figure.Figure at 0x6d4b06a0>"
      ]
     },
     "metadata": {},
     "output_type": "display_data"
    }
   ],
   "source": [
    "losses = np.load('losses.npy')\n",
    "plt.semilogy(losses)"
   ]
  },
  {
   "cell_type": "markdown",
   "metadata": {},
   "source": [
    "## Infer"
   ]
  },
  {
   "cell_type": "code",
   "execution_count": 16,
   "metadata": {},
   "outputs": [
    {
     "data": {
      "text/plain": [
       "310"
      ]
     },
     "execution_count": 16,
     "metadata": {},
     "output_type": "execute_result"
    }
   ],
   "source": [
    "# We need to download the vocab, because the tokenization is done differently there than on my laptop (don't know why).\n",
    "with open('vocab.pic', 'rb') as f:\n",
    "    vocab = pickle.load(f)\n",
    "id_word = [v[0] for v in vocab]\n",
    "word_id = {w:i for i,w in enumerate(id_word)}\n",
    "vocab_size = len(vocab)\n",
    "vocab_size"
   ]
  },
  {
   "cell_type": "code",
   "execution_count": 17,
   "metadata": {
    "scrolled": false
   },
   "outputs": [
    {
     "name": "stdout",
     "output_type": "stream",
     "text": [
      "INFO:tensorflow:Restoring parameters from checkpoints/coco-caption.ckp-final\n"
     ]
    }
   ],
   "source": [
    "tf.reset_default_graph()\n",
    "sess = tf.Session()\n",
    "model = RNNCaptioningModel(embedding_size=embeding_size, image_descriptor_size=image_descriptor_size, lstm_size=lstm_size, num_steps=num_steps, vocab_size=vocab_size, sess=sess, checkpoint_path=checkpoint_path)\n",
    "model.build(model_type='infer')\n",
    "model.saver.restore(sess, checkpoint_path + '-final')"
   ]
  },
  {
   "cell_type": "code",
   "execution_count": 35,
   "metadata": {},
   "outputs": [
    {
     "name": "stdout",
     "output_type": "stream",
     "text": [
      "loading annotations into memory...\n",
      "Done (t=1.90s)\n",
      "creating index...\n",
      "index created!\n"
     ]
    }
   ],
   "source": [
    "from pycocotools.coco import COCO\n",
    "coco = COCO(ms_coco_dir + '/annotations/captions_train2017.json')"
   ]
  },
  {
   "cell_type": "code",
   "execution_count": 37,
   "metadata": {},
   "outputs": [
    {
     "name": "stdout",
     "output_type": "stream",
     "text": [
      "PRED: A kitchen is shown with a variety of items on the counters .\n",
      "TRUE: A kitchen is shown with a variety of items on the counters.\n",
      "TRUE: A kitchen has the windows open and plaid curtains.\n",
      "TRUE: A kitchen with two windows and two metal sinks.\n",
      "TRUE: An older kitchen with cluttered counter tops but empty sink.\n",
      "TRUE: Glasses and bottles are placed near a kitchen sink.\n",
      "\n",
      "PRED: A kitchen with wood floors and lots of furniture .\n",
      "TRUE: A kitchen with wood floors and lots of furniture.\n",
      "TRUE: A beautiful, open kitchen and dining room area features an island in the center and wood cabinets and large windows.\n",
      "TRUE: A kitchen made of mostly wood with a small desk with a laptop.\n",
      "TRUE: A very spacious room with a kitchen and dining area.\n",
      "TRUE: A full view of an open kitchen and dining area.\n",
      "\n",
      "PRED: Two cooks are near the stove in a stainless steel kitchen .\n",
      "TRUE: Two chefs in a restaurant kitchen preparing food. \n",
      "TRUE: Two cooks are cooking the food someone ordered at this restaurant\n",
      "TRUE: The chef is cooking with pans on the stove next to an oven. \n",
      "TRUE: Two men that are standing in a kitchen.\n",
      "TRUE: Two cooks are near the stove in a stainless steel kitchen.\n",
      "\n",
      "PRED: Doorway view of a kitchen with a sink , stove , refrigerator and pantry .\n",
      "TRUE: A narrow kitchen filled with appliances and cooking utensils.\n",
      "TRUE: A galley kitchen with cabinets and appliances on both sides\n",
      "TRUE: A hallway leading into a white kitchen with appliances.\n",
      "TRUE: Doorway view of a kitchen with a sink, stove, refrigerator and pantry.\n",
      "TRUE: The pantry door of the small kitchen is closed.\n",
      "\n",
      "PRED: A kitchen has all stainless steel appliances and counters .\n",
      "TRUE: A commercial stainless kitchen with a pot of food cooking. \n",
      "TRUE: Some food sits in a pot in a kitchen. \n",
      "TRUE: A kitchen has all stainless steel appliances and counters.\n",
      "TRUE: a kitchen with a sink and many cooking machines and a pot of food\n",
      "TRUE: Food cooks in a pot on a stove in a kitchen.\n",
      "\n",
      "PRED: Children sitting at computer stations on a long city\n",
      "TRUE: a boy wearing headphones using one computer in a long row of computers\n",
      "TRUE: A little boy with earphones on listening to something.\n",
      "TRUE: A group of people sitting at desk using computers.\n",
      "TRUE: Children sitting at computer stations on a long table.\n",
      "TRUE: A small child wearing headphones plays on the computer.\n",
      "\n",
      "PRED: A professional kitchen and dining area .\n",
      "TRUE: A kitchen with wood floors and lots of furniture.\n",
      "TRUE: A beautiful, open kitchen and dining room area features an island in the center and wood cabinets and large windows.\n",
      "TRUE: A kitchen made of mostly wood with a small desk with a laptop.\n",
      "TRUE: A very spacious room with a kitchen and dining area.\n",
      "TRUE: A full view of an open kitchen and dining area.\n",
      "\n",
      "PRED: A kitchen with cabinets , a stove , microwave and refrigerator .\n",
      "TRUE: A kitchen with a stove, microwave and refrigerator.\n",
      "TRUE: A refrigerator, oven and microwave sitting in a kitchen.\n",
      "TRUE: The kitchenette uses  small space to great efficiency.\n",
      "TRUE: an image of a kitchen setting with black appliances\n",
      "TRUE: A kitchen with cabinets, a stove, microwave and refrigerator.\n",
      "\n",
      "PRED: A woman wearing a net on her head cutting a cake .\n",
      "TRUE: A woman wearing a net on her head cutting a cake. \n",
      "TRUE: A woman cutting a large white sheet cake.\n",
      "TRUE: A woman wearing a hair net cutting a large sheet cake.\n",
      "TRUE: there is a woman that is cutting a white cake\n",
      "TRUE: A woman marking a cake with the back of a chef's knife. \n",
      "\n",
      "PRED: A young girl inhales with the intent of blowing out a candle .\n",
      "TRUE: A young girl inhales with the intent of blowing out a candle. \n",
      "TRUE: A young girl is preparing to blow out her candle.\n",
      "TRUE: A kid is to blow out the single candle in a bowl of birthday goodness. \n",
      "TRUE: Girl blowing out the candle on an ice-cream \n",
      "TRUE: A little girl is getting ready to blow out a candle on a small dessert.\n",
      "\n",
      "PRED: A narrow kitchen mostly with appliances .\n",
      "TRUE: A narrow kitchen filled with appliances and cooking utensils.\n",
      "TRUE: A galley kitchen with cabinets and appliances on both sides\n",
      "TRUE: A hallway leading into a white kitchen with appliances.\n",
      "TRUE: Doorway view of a kitchen with a sink, stove, refrigerator and pantry.\n",
      "TRUE: The pantry door of the small kitchen is closed.\n",
      "\n",
      "PRED: A kitchen with wood floors and lots of furniture .\n",
      "TRUE: A kitchen with wood floors and lots of furniture.\n",
      "TRUE: A beautiful, open kitchen and dining room area features an island in the center and wood cabinets and large windows.\n",
      "TRUE: A kitchen made of mostly wood with a small desk with a laptop.\n",
      "TRUE: A very spacious room with a kitchen and dining area.\n",
      "TRUE: A full view of an open kitchen and dining area.\n",
      "\n",
      "PRED: A kitchen with a stove , microwave and refrigerator .\n",
      "TRUE: A kitchen with a stove, microwave and refrigerator.\n",
      "TRUE: A refrigerator, oven and microwave sitting in a kitchen.\n",
      "TRUE: The kitchenette uses  small space to great efficiency.\n",
      "TRUE: an image of a kitchen setting with black appliances\n",
      "TRUE: A kitchen with cabinets, a stove, microwave and refrigerator.\n",
      "\n",
      "PRED: a guy that is riding his bike next to a train\n",
      "TRUE: A man on a bicycle riding next to a train\n",
      "TRUE: A person is riding a bicycle but there is a train in the background.\n",
      "TRUE: a red and white train and a man riding a bicycle\n",
      "TRUE: a guy that is riding his bike next to a train\n",
      "TRUE: A man riding a bike past a train traveling along tracks.\n",
      "\n",
      "PRED: A woman is holding a cat in her kitchen .\n",
      "TRUE: A woman in a room with a cat.\n",
      "TRUE: A girl smiles as she holds a cat and wears a brightly colored skirt.\n",
      "TRUE: a woman is holding a cat in her kitchen\n",
      "TRUE: A woman is working in a kitchen carrying a soft toy.\n",
      "TRUE: A woman is holding a cat in her kitchen.\n",
      "\n",
      "PRED: A galley kitchen with two sink and cooking machines both pot of food\n",
      "TRUE: A narrow kitchen filled with appliances and cooking utensils.\n",
      "TRUE: A galley kitchen with cabinets and appliances on both sides\n",
      "TRUE: A hallway leading into a white kitchen with appliances.\n",
      "TRUE: Doorway view of a kitchen with a sink, stove, refrigerator and pantry.\n",
      "TRUE: The pantry door of the small kitchen is closed.\n",
      "\n",
      "PRED: A commercial dish wearing in a kitchen with a sink .\n",
      "TRUE: A commercial stainless kitchen with a pot of food cooking. \n",
      "TRUE: Some food sits in a pot in a kitchen. \n",
      "TRUE: A kitchen has all stainless steel appliances and counters.\n",
      "TRUE: a kitchen with a sink and many cooking machines and a pot of food\n",
      "TRUE: Food cooks in a pot on a stove in a kitchen.\n",
      "\n",
      "PRED: Some food in a kitchen front of a stove .\n",
      "TRUE: A commercial stainless kitchen with a pot of food cooking. \n",
      "TRUE: Some food sits in a pot in a kitchen. \n",
      "TRUE: A kitchen has all stainless steel appliances and counters.\n",
      "TRUE: a kitchen with a sink and many cooking machines and a pot of food\n",
      "TRUE: Food cooks in a pot on a stove in a kitchen.\n",
      "\n",
      "PRED: A skateboarder flipping his board on a street .\n",
      "TRUE: A boy performing a kickflip on his skateboard on a city street.\n",
      "TRUE: A man is doing a trick on a skateboard\n",
      "TRUE: A guy jumps in the air with his skateboard beneath him.\n",
      "TRUE: Man in all black doing a trick on his skateboard.\n",
      "TRUE: A skateboarder flipping his board on a street.\n",
      "\n",
      "PRED: An older kitchen with cluttered counter tops but empty sink .\n",
      "TRUE: A kitchen is shown with a variety of items on the counters.\n",
      "TRUE: A kitchen has the windows open and plaid curtains.\n",
      "TRUE: A kitchen with two windows and two metal sinks.\n",
      "TRUE: An older kitchen with cluttered counter tops but empty sink.\n",
      "TRUE: Glasses and bottles are placed near a kitchen sink.\n",
      "\n"
     ]
    }
   ],
   "source": [
    "num_sentences = 20\n",
    "\n",
    "for i in range(num_sentences):\n",
    "    idx = np.random.choice(X_captions.shape[0])\n",
    "    \n",
    "    seq = model.infer(X_images[idx].reshape(1,-1), start_id=word_id['START'], end_id=word_id['END'])\n",
    "    print('PRED:', ' '.join([id_word[w] for w in seq if id_word[w] not in ('START', 'END')]))\n",
    "    \n",
    "    imgId = caption_ids[idx]\n",
    "    annIds = coco.getAnnIds(imgIds=[imgId])\n",
    "    anns = coco.loadAnns(annIds)\n",
    "    for a in anns:\n",
    "        print('TRUE:', a['caption'])\n",
    "    print()"
   ]
  },
  {
   "cell_type": "code",
   "execution_count": null,
   "metadata": {
    "collapsed": true
   },
   "outputs": [],
   "source": []
  },
  {
   "cell_type": "code",
   "execution_count": 102,
   "metadata": {
    "collapsed": true
   },
   "outputs": [],
   "source": []
  }
 ],
 "metadata": {
  "kernelspec": {
   "display_name": "Python [conda env:pisa-txa]",
   "language": "python",
   "name": "conda-env-pisa-txa-py"
  },
  "language_info": {
   "codemirror_mode": {
    "name": "ipython",
    "version": 3
   },
   "file_extension": ".py",
   "mimetype": "text/x-python",
   "name": "python",
   "nbconvert_exporter": "python",
   "pygments_lexer": "ipython3",
   "version": "3.6.2"
  }
 },
 "nbformat": 4,
 "nbformat_minor": 2
}
