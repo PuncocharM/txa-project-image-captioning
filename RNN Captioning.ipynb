{
 "cells": [
  {
   "cell_type": "code",
   "execution_count": 12,
   "metadata": {
    "collapsed": true
   },
   "outputs": [],
   "source": [
    "%matplotlib inline\n",
    "import tensorflow as tf\n",
    "import numpy as np\n",
    "import time\n",
    "import pickle\n",
    "# import json\n",
    "import importlib\n",
    "import matplotlib.pyplot as plt\n",
    "\n",
    "from config import ms_coco_dir\n",
    "\n",
    "import pylab\n",
    "pylab.rcParams['figure.figsize'] = (8.0, 5.5)"
   ]
  },
  {
   "cell_type": "code",
   "execution_count": 2,
   "metadata": {
    "collapsed": true
   },
   "outputs": [],
   "source": [
    "# use xception descriptors\n",
    "\n",
    "xc_train = pickle.load(open(ms_coco_dir + '/descriptors/xception/xception-train2017-descriptors.pic', 'rb'))\n",
    "xc_val = pickle.load(open(ms_coco_dir + '/descriptors/xception/xception-val2017-descriptors.pic', 'rb'))\n",
    "\n",
    "descriptors_train = xc_train\n",
    "descriptors_val = xc_val"
   ]
  },
  {
   "cell_type": "markdown",
   "metadata": {},
   "source": [
    "## Train\n",
    "\n",
    "Or skip this and just load some model in the inference section"
   ]
  },
  {
   "cell_type": "code",
   "execution_count": 43,
   "metadata": {
    "collapsed": true
   },
   "outputs": [],
   "source": [
    "freq_threshold = 0\n",
    "train_size = 100\n",
    "num_steps = 50\n",
    "\n",
    "embeding_size = 200\n",
    "batch_size = 5\n",
    "lstm_size = 200\n",
    "checkpoint_path = 'checkpoints/coco-caption.ckp'\n",
    "image_descriptor_size = X_images.shape[1]"
   ]
  },
  {
   "cell_type": "code",
   "execution_count": 44,
   "metadata": {
    "collapsed": true
   },
   "outputs": [],
   "source": [
    "import utils\n",
    "importlib.reload(utils)\n",
    "from utils import load_and_save_captions, load_captions_and_images\n",
    "\n",
    "# load_and_save_captions(ms_coco_dir, train_size, num_steps, freq_threshold)\n",
    "X_images, X_captions, Y, X_lens, vocab_size, caption_ids = load_captions_and_images(descriptors_train)"
   ]
  },
  {
   "cell_type": "code",
   "execution_count": 45,
   "metadata": {},
   "outputs": [
    {
     "data": {
      "text/plain": [
       "((100, 2048), (100, 50), 16255)"
      ]
     },
     "execution_count": 45,
     "metadata": {},
     "output_type": "execute_result"
    }
   ],
   "source": [
    "X_images.shape, X_captions.shape, vocab_size"
   ]
  },
  {
   "cell_type": "code",
   "execution_count": 11,
   "metadata": {
    "collapsed": true
   },
   "outputs": [],
   "source": [
    "from lstm_captioning_model import RNNCaptioningModel"
   ]
  },
  {
   "cell_type": "code",
   "execution_count": 12,
   "metadata": {
    "collapsed": true
   },
   "outputs": [],
   "source": [
    "tf.reset_default_graph()\n",
    "sess = tf.Session()\n",
    "model = RNNCaptioningModel(embedding_size=embeding_size, image_descriptor_size=image_descriptor_size, lstm_size=lstm_size, num_steps=num_steps, vocab_size=vocab_size, sess=sess, checkpoint_path=checkpoint_path)\n",
    "model.build(model_type='train')"
   ]
  },
  {
   "cell_type": "code",
   "execution_count": 13,
   "metadata": {
    "collapsed": true
   },
   "outputs": [],
   "source": [
    "sess.run(tf.global_variables_initializer())\n",
    "# model.saver.restore(sess, checkpoint_path + '-final') # continue training"
   ]
  },
  {
   "cell_type": "code",
   "execution_count": 14,
   "metadata": {
    "scrolled": true
   },
   "outputs": [
    {
     "name": "stdout",
     "output_type": "stream",
     "text": [
      "epoch 1\n",
      "training loss after 20 steps: 3.68624687195 elapsed time: 00h 00m 03s\n",
      "epoch 2\n",
      "training loss after 40 steps: 2.50168204308 elapsed time: 00h 00m 06s\n",
      "epoch 3\n",
      "training loss after 60 steps: 1.75109219551 elapsed time: 00h 00m 10s\n",
      "epoch 4\n",
      "training loss after 80 steps: 1.17539286613 elapsed time: 00h 00m 13s\n",
      "epoch 5\n",
      "training loss after 100 steps: 0.761193573475 elapsed time: 00h 00m 16s\n",
      "saved model to checkpoints/coco-caption.ckp-100\n",
      "epoch 6\n",
      "training loss after 120 steps: 0.517965734005 elapsed time: 00h 00m 21s\n",
      "epoch 7\n",
      "training loss after 140 steps: 0.380921781063 elapsed time: 00h 00m 24s\n",
      "epoch 8\n",
      "training loss after 160 steps: 0.321037262678 elapsed time: 00h 00m 28s\n",
      "epoch 9\n",
      "training loss after 180 steps: 0.304425597191 elapsed time: 00h 00m 31s\n",
      "epoch 10\n",
      "training loss after 200 steps: 0.24826925993 elapsed time: 00h 00m 34s\n",
      "saved model to checkpoints/coco-caption.ckp-200\n",
      "Finished training\n",
      "Saved final model to checkpoints/coco-caption.ckp-final\n",
      "Final training loss: 0.248269230127\n",
      "It took 00h 00m 38s\n",
      "epoch 1\n",
      "training loss after 220 steps: 0.221083134413 elapsed time: 00h 00m 03s\n",
      "epoch 2\n",
      "training loss after 240 steps: 0.209935680032 elapsed time: 00h 00m 06s\n",
      "epoch 3\n",
      "training loss after 260 steps: 0.204493954778 elapsed time: 00h 00m 09s\n",
      "epoch 4\n",
      "training loss after 280 steps: 0.200825586915 elapsed time: 00h 00m 12s\n",
      "epoch 5\n",
      "training loss after 300 steps: 0.197097375989 elapsed time: 00h 00m 16s\n",
      "saved model to checkpoints/coco-caption.ckp-300\n",
      "epoch 6\n",
      "training loss after 320 steps: 0.193802788854 elapsed time: 00h 00m 21s\n",
      "epoch 7\n",
      "training loss after 340 steps: 0.191397473216 elapsed time: 00h 00m 24s\n",
      "epoch 8\n",
      "training loss after 360 steps: 0.189301297069 elapsed time: 00h 00m 28s\n",
      "epoch 9\n",
      "training loss after 380 steps: 0.186794325709 elapsed time: 00h 00m 31s\n",
      "epoch 10\n",
      "training loss after 400 steps: 0.184457093477 elapsed time: 00h 00m 34s\n",
      "saved model to checkpoints/coco-caption.ckp-400\n",
      "epoch 11\n",
      "training loss after 420 steps: 0.182777047157 elapsed time: 00h 00m 39s\n",
      "epoch 12\n",
      "training loss after 440 steps: 0.18055345118 elapsed time: 00h 00m 42s\n",
      "epoch 13\n",
      "training loss after 460 steps: 0.178967416286 elapsed time: 00h 00m 45s\n",
      "epoch 14\n",
      "training loss after 480 steps: 0.177471369505 elapsed time: 00h 00m 49s\n",
      "epoch 15\n",
      "training loss after 500 steps: 0.175899595022 elapsed time: 00h 00m 52s\n",
      "saved model to checkpoints/coco-caption.ckp-500\n",
      "epoch 16\n",
      "training loss after 520 steps: 0.174234807491 elapsed time: 00h 00m 57s\n",
      "epoch 17\n",
      "training loss after 540 steps: 0.173267692327 elapsed time: 00h 01m 00s\n",
      "epoch 18\n",
      "training loss after 560 steps: 0.171786159277 elapsed time: 00h 01m 04s\n",
      "epoch 19\n",
      "training loss after 580 steps: 0.170679762959 elapsed time: 00h 01m 07s\n",
      "epoch 20\n",
      "training loss after 600 steps: 0.169065818191 elapsed time: 00h 01m 10s\n",
      "saved model to checkpoints/coco-caption.ckp-600\n",
      "Finished training\n",
      "Saved final model to checkpoints/coco-caption.ckp-final\n",
      "Final training loss: 0.169065847993\n",
      "It took 00h 01m 15s\n"
     ]
    }
   ],
   "source": [
    "n_epochs = 10\n",
    "learning_rate = 0.001\n",
    "model.train(X_images, X_captions, Y, X_lens, n_epochs, batch_size, learning_rate, evaluate_every=20, save_every=100)\n",
    "\n",
    "n_epochs = 20\n",
    "learning_rate = 0.0001\n",
    "model.train(X_images, X_captions, Y, X_lens, n_epochs, batch_size, learning_rate, evaluate_every=20, save_every=100)"
   ]
  },
  {
   "cell_type": "code",
   "execution_count": 22,
   "metadata": {},
   "outputs": [
    {
     "data": {
      "text/plain": [
       "<matplotlib.legend.Legend at 0xfad5438>"
      ]
     },
     "execution_count": 22,
     "metadata": {},
     "output_type": "execute_result"
    },
    {
     "data": {
      "image/png": "[encoded data removed]",
      "text/plain": [
       "<matplotlib.figure.Figure at 0xef86b70>"
      ]
     },
     "metadata": {},
     "output_type": "display_data"
    },
    {
     "data": {
      "image/png": "[encoded data removed]",
      "text/plain": [
       "<matplotlib.figure.Figure at 0x11014ac8>"
      ]
     },
     "metadata": {},
     "output_type": "display_data"
    }
   ],
   "source": [
    "losses, losses_x, losses_val, losses_val_x = np.load('run-1/losses.npy')\n",
    "plt.figure()\n",
    "plt.semilogy(losses_x, losses, label='train')\n",
    "plt.semilogy(losses_val_x, losses_val, label='val')\n",
    "plt.legend(loc='upper right')\n",
    "\n",
    "losses, losses_x, losses_val, losses_val_x = np.load('run-2/losses.npy')\n",
    "plt.figure()\n",
    "plt.semilogy(losses_x, losses, label='train')\n",
    "plt.semilogy(losses_val_x, losses_val, label='val')\n",
    "plt.legend()"
   ]
  },
  {
   "cell_type": "code",
   "execution_count": 14,
   "metadata": {},
   "outputs": [
    {
     "data": {
      "text/plain": [
       "5910"
      ]
     },
     "execution_count": 14,
     "metadata": {},
     "output_type": "execute_result"
    }
   ],
   "source": [
    "losses_x[-1]"
   ]
  },
  {
   "cell_type": "code",
   "execution_count": 4,
   "metadata": {},
   "outputs": [
    {
     "data": {
      "text/plain": [
       "[<matplotlib.lines.Line2D at 0xc60d320>]"
      ]
     },
     "execution_count": 4,
     "metadata": {},
     "output_type": "execute_result"
    },
    {
     "data": {
      "image/png": "[encoded data removed]",
      "text/plain": [
       "<matplotlib.figure.Figure at 0xcda09b0>"
      ]
     },
     "metadata": {},
     "output_type": "display_data"
    }
   ],
   "source": [
    "losses = np.load('losses-6000.npy')\n",
    "plt.semilogy(losses)"
   ]
  },
  {
   "cell_type": "code",
   "execution_count": 11,
   "metadata": {},
   "outputs": [
    {
     "data": {
      "text/plain": [
       "[<matplotlib.lines.Line2D at 0xdd61b00>]"
      ]
     },
     "execution_count": 11,
     "metadata": {},
     "output_type": "execute_result"
    },
    {
     "data": {
      "image/png": "[encoded data removed]",
      "text/plain": [
       "<matplotlib.figure.Figure at 0xdd93be0>"
      ]
     },
     "metadata": {},
     "output_type": "display_data"
    }
   ],
   "source": [
    "losses1 = np.load('losses-first-1000.npy')\n",
    "losses2 = np.load('losses-next-2050.npy')\n",
    "losses = np.concatenate([losses1, losses2])\n",
    "plt.semilogy(losses)"
   ]
  },
  {
   "cell_type": "markdown",
   "metadata": {},
   "source": [
    "## Infer"
   ]
  },
  {
   "cell_type": "code",
   "execution_count": 3,
   "metadata": {},
   "outputs": [
    {
     "data": {
      "text/plain": [
       "16255"
      ]
     },
     "execution_count": 3,
     "metadata": {},
     "output_type": "execute_result"
    }
   ],
   "source": [
    "# We need to download the vocab, because the tokenization is done differently there than on my laptop (don't know why).\n",
    "with open('vocab-train2017.pic', 'rb') as f:\n",
    "    vocab = pickle.load(f)\n",
    "id_word = [v[0] for v in vocab]\n",
    "word_id = {w:i for i,w in enumerate(id_word)}\n",
    "vocab_size = len(vocab)\n",
    "vocab_size"
   ]
  },
  {
   "cell_type": "code",
   "execution_count": 4,
   "metadata": {
    "collapsed": true
   },
   "outputs": [],
   "source": [
    "# freq_threshold = 0\n",
    "# train_size = 100\n",
    "num_steps = 50\n",
    "\n",
    "embeding_size = 512\n",
    "batch_size = 1000\n",
    "lstm_size = 512\n",
    "checkpoint_path = 'checkpoints-from-server/coco-caption.ckp'\n",
    "image_descriptor_size = 2048"
   ]
  },
  {
   "cell_type": "code",
   "execution_count": 56,
   "metadata": {
    "scrolled": false
   },
   "outputs": [
    {
     "name": "stdout",
     "output_type": "stream",
     "text": [
      "INFO:tensorflow:Restoring parameters from checkpoints-from-server/coco-caption.ckp-1000\n"
     ]
    }
   ],
   "source": [
    "import lstm_captioning_model\n",
    "importlib.reload(lstm_captioning_model)\n",
    "from lstm_captioning_model import RNNCaptioningModel\n",
    "\n",
    "tf.reset_default_graph()\n",
    "sess = tf.Session()\n",
    "model = RNNCaptioningModel(embedding_size=embeding_size, image_descriptor_size=image_descriptor_size, lstm_size=lstm_size, num_steps=num_steps, vocab_size=vocab_size, sess=sess, checkpoint_path=checkpoint_path)\n",
    "model.build(model_type='infer')\n",
    "model.saver.restore(sess, checkpoint_path + '-1000')"
   ]
  },
  {
   "cell_type": "code",
   "execution_count": 9,
   "metadata": {},
   "outputs": [
    {
     "name": "stdout",
     "output_type": "stream",
     "text": [
      "loading annotations into memory...\n",
      "Done (t=2.06s)\n",
      "creating index...\n",
      "index created!\n"
     ]
    }
   ],
   "source": [
    "from pycocotools.coco import COCO\n",
    "coco = COCO(ms_coco_dir + '/annotations/captions_train2017.json')"
   ]
  },
  {
   "cell_type": "code",
   "execution_count": 36,
   "metadata": {},
   "outputs": [
    {
     "name": "stdout",
     "output_type": "stream",
     "text": [
      "PRED: A small kitchen with a toy microwave and looks on a stove . shelf OF ELEPHANTS toward wall . to shelves printer for us to see . tooth brush and wedge stacks of pictures on the right . hood of\n",
      "TRUE: A kitchen has dark counters and wood cabinets. \n",
      "TRUE: A kitchen with black countertops, chrome appliances, and wooden cabinets.\n",
      "TRUE: The interior of a kitchen with brown wooden finishes\n",
      "TRUE: A beautiful and spacious kitchen with stainless steel appliances.\n",
      "TRUE: A kitchen that has many wooden cabinets and cupboards.\n",
      "\n",
      "PRED: A cat is sitting on top of a chair in a room . the screen . fireplace . vegetation to be seafood . Football his office at the bar . toward the boy , cellphone in his bed stroller onto the stream .\n",
      "TRUE:  A man lies in bed resting while a small black and white cat wearing a cone, lies on top of him\n",
      "TRUE: A cat with a cone on sitting behind a man while he is sleeping.\n",
      "TRUE: black and white cat with a plastic tunnel watching a man\n",
      "TRUE: A man lying down and a cat with a cone on its head.\n",
      "TRUE: a person laying down with a cat behind him\n",
      "\n",
      "PRED: two laptops taking a photo with old inset out greeting the like bonnet and laptop pie the brightly other food . dressers . needs to be on the tower while the forehead how the car . out to a window of\n",
      "TRUE: A cat standing next to a plate on a computer.\n",
      "TRUE: A can laying on a desk in front of a computer.\n",
      "TRUE: A cat sits next to a plate that sits in front of a computer screen.\n",
      "TRUE: A cat with a pensive look guarding its plate by a computer.\n",
      "TRUE: A cat sitting on a desk eating off a plate.\n",
      "\n",
      "PRED: some fruits and bearded Avenue cut an tent that pieces of food surrounds like no mountain blowing greenery greenery it filled with cake . an elevated nearby , rocks and green vegetables . beer in glass as well\n",
      "TRUE: A store filled with bunches of bananas hanging from it's walls.\n",
      "TRUE: An item is in the picture and it looks like something\n",
      "\n",
      "TRUE: Bananas are hanging and resting in baskets for sale.\n",
      "TRUE: Lots of bananas are seen hanging in the background and gathered in a cloths basket.\n",
      "TRUE: Many bunches of bananas in baskets and hanging up in a room with some other fruit in the background.\n",
      "\n",
      "PRED: a man riding his happy just attire on the ground him while wearing a rides pants and a helmet hugging walking on a skateboard fly where it 's tail most , Fried , cups , and other people hanging around . and others cooling off is behind\n",
      "TRUE: A person walking along wet ground holding an umbrella.\n",
      "TRUE: The person with the umbrella is walking away from the scene.\n",
      "TRUE: a person walking fast on a sidewalk with a green umbrella\n",
      "TRUE: A diagonal view of someone walkig along a wet street\n",
      "TRUE: A person walking on the street holding an umbrella.\n",
      "\n",
      "PRED: A woman looking at a large man with a boat on it . farm , than the person embracing them each other them is underway . empty pick-up , IS symbol and scissors , they are all white . greenery . themselves from the afternoon\n",
      "TRUE: A young lady sitting on top of a wooden bench.\n",
      "TRUE: A young woman is sitting on a bench with her legs crossed. \n",
      "TRUE: Young, smiling woman in casual dress sits on a bench.\n",
      "TRUE: A woman sitting on a bench with her legs crossed.\n",
      "TRUE: A young woman sitting on an outdoor bench.\n",
      "\n",
      "PRED: A group of pictures tools sitting on top of a table . pump . the street in front of buildings . steering a phone . pickup , and a clock hanging up on the roof of the house . with very large windows .\n",
      "TRUE: A group of metal sculptures sitting on top of a white table.\n",
      "TRUE: Multi-colored hexagonal tubes are standing on a table.\n",
      "TRUE: multiple octagon shaped cylinders filled with paint on the table\n",
      "TRUE: A group of flower vases with various colors on them.\n",
      "TRUE: Hexagonal vases of various heights sitting on a table. \n",
      "\n",
      "PRED: An elephant stands up near small tree as two window elephants . one cooks with a structure on it . head sculpture with a pair of scissors are lying on tall . cosmetics by the back gathered ovens . holds the rubber , one many\n",
      "TRUE: A baby and adult elephant walk around their pen.\n",
      "TRUE: Elephants in the grass on a sunny day \n",
      "TRUE: Several adult elephants and a young elephant in a field of grass.\n",
      "TRUE: Two adult elephants and one child elephant grazing on grass.\n",
      "TRUE: The adult elephant is standing behind a young one.\n",
      "\n",
      "PRED: A pastry chatting that sits on a table . dish of food . plates next to him . veggie fruit , a dish on a stove tray . hygiene bare dark vast bleeding . cases beauty a few getting riverfront slicing artwork in an\n",
      "TRUE: A paper plate topped with a sandwich filed with lettuce.\n",
      "TRUE: A plate of food sitting on a table with a fork and cup next to it\n",
      "TRUE: Cup of water, fork and knife sitting on the table next to a plate with a large sandwich on it\n",
      "TRUE: A pita sandwich on a white plate on a table with a glass\n",
      "TRUE: A food entree is served on a plate with a fork.\n",
      "\n",
      "PRED: a kitchen vessel filled with sink and orange views chairs a stove flatscreen white available and different off side . available below . the long , cowboys and window . nearby . coke and grinding around it . Doorway plowed\n",
      "TRUE: White cabinets with glass cupboards and with black tiled counter top\n",
      "TRUE: A kitchen with cabinets that are white and a counter that is black.\n",
      "TRUE: a kitchen with a lot of cupboards and a black counter \n",
      "TRUE: An off white kitchen with black a counter top.\n",
      "TRUE: Unstained kitchen cabinets and materials on the counter.\n",
      "\n",
      "PRED: A little girl holding a buggy can . folding hand who photographs her laptop in hand and smiling toe to change . greek . refrigerator/freezer other . removing his men over a place . oval on these two donuts engine drinking from a wall\n",
      "TRUE: a little girl is sucking her thumb and a few people in the background\n",
      "TRUE: A young child holding a snack in one hand and sucking their thumb\n",
      "TRUE: A child sucking their thump while holding a piece of food.\n",
      "TRUE: The little girl is sucking her thumb with food in the other hand.\n",
      "TRUE: A boy with his hand touching his nose.\n",
      "\n",
      "PRED: A person bathing a boat on a boat as the hose . has fallen of them . water ! looks served with the grazing bus . set to her food palace . trim while the nibbling is doing a backpack coming .\n",
      "TRUE: A man riding a surfboard in the ocean.\n",
      "TRUE: A surfer uses a cat pose to glide through a wave.\n",
      "TRUE: A surfboarder is getting ready to ride a wave.\n",
      "TRUE: Surfer standing up on his board while riding a wave. \n",
      "TRUE: a man catches a wave on his surfboard\n",
      "\n",
      "PRED: a guy is standing over some antelope and a building he reads next to his covering . and a base the rear rack of his car and his head different languages . an paused as seen unseen from it . sprawled\n",
      "TRUE: A food truck pulled up next to a person.\n",
      "TRUE: People stand at the window of a red food truck.\n",
      "TRUE: Two people standing at the service window of a food truck.\n",
      "TRUE: Two people standing near a red and white food truck. \n",
      "TRUE: Two people standing at a food truck placing an order.\n",
      "\n",
      "PRED: A person with a hat on and possibly in hand surrounds his amount of beside him . that have remote controls . it . Someone has wood information banana . sail rests various displayed . Plated call as they walk were from the\n",
      "TRUE: A man holding up holding an object inside of a plastic case.\n",
      "TRUE: A bearded bald man in a grey shirt holding up a hairbrush and smiling\n",
      "TRUE: A man holds a cellphone in front of a building.\n",
      "TRUE: a man smiling at a photo in a room\n",
      "TRUE: A bald man smiles and holds up an item for the picture.\n",
      "\n",
      "PRED: A woman holding a pair of ski run down a sidewalk . his stockings on a city street in skyline . formation in poster . new clusters areas the rear of the den with talk on the backs . remolded , and clothing has trees in\n",
      "TRUE: Two speed motorcyclers turning a corner very sharply\n",
      "TRUE: Two people on white and red motorbikes race very quickly.\n",
      "TRUE: Two motorcycles racing on a track next to grass.\n",
      "TRUE: two people on motorcycles driving down a track \n",
      "TRUE: two people riding motorcycles near one another \n",
      "\n",
      "PRED: A pizza with a glass pan with onions , and piano . tray ready to be cups . , to drink , the pug dog and lying on the back track . his head on a cellphone to be a car . full of different\n",
      "TRUE: a pizza with some toppings sitting in a card board box \n",
      "TRUE: Stuffed animals oversee a pizza sitting on a table.\n",
      "TRUE: A pizza in a cardboard box with several stuffed animals sitting around it.\n",
      "TRUE: a box with a pizza inside on a wooden table\n",
      "TRUE: A pizza sitting in a cardboard box on a table.\n",
      "\n"
     ]
    },
    {
     "name": "stdout",
     "output_type": "stream",
     "text": [
      "PRED: A street appears to be a very good skateboarding . one the trapped and another double-decker with an odd arrow . leather rust into the street is an airport object . pump Flying surrounds a tv inside of a building .\n",
      "TRUE: A street sign warning traffic of photo enforcement. \n",
      "TRUE: A street sigh warning that the traffic light ahead has red light cameras\n",
      "TRUE: A street  sign on a busy sidewalk corner\n",
      "TRUE: A street sign indicates that the intersection is enforced by cameras.\n",
      "TRUE: A view of a street with a sign on the side of the road.\n",
      "\n",
      "PRED: A couple of cows down a street with an elephant . elephant . its bank . WITH Black-and-white trying to sell many wires . tow with a white building graze water . nearby though the waters in an\n",
      "TRUE: A baby elephant standing next to a small watering hole.\n",
      "TRUE: an elephant standing by some water so it can drink some \n",
      "TRUE: An elephant is standing next to some water and putting something in its mouth.\n",
      "TRUE: An elephant at a water hole spraying water into his mouth.\n",
      "TRUE: An elephant at a zoo, standing next to water with his trunk in his mouth.\n",
      "\n",
      "PRED: a man holding a little girl ride typing on a skateboard its street signage 's resembles . in the middle of green , skiis , with a mess and others by people on the sea . that is an empty elephant in the background\n",
      "TRUE: A man wearing a hat and a back pack next to steps.\n",
      "TRUE: A man with a back pack standing by brick steps.\n",
      "TRUE: A man in a hat with a backpack standing next to stone stairs.\n",
      "TRUE: A man with a hat and a backpack standing on a road.\n",
      "TRUE: A man standing at the foot of steps wearing a hat and a backpack.\n",
      "\n",
      "PRED: A skier is wearing a red , black and white helmet in the snow . wiping skier . to his ear . the forehead and a dog kids watching other eagle . Many sitting on a field . magnetic to her rug .\n",
      "TRUE: A man skiing on a mountain covered with snow\n",
      "TRUE: A person on some skis in the snow.\n",
      "TRUE: A man riding skis down the side of snow covered slope.\n",
      "TRUE: a handicapped man riding on a snow ski device\n",
      "TRUE: a man sitting on some skis going down a snow covered mountain\n",
      "\n"
     ]
    }
   ],
   "source": [
    "num_sentences = 20\n",
    "\n",
    "imgIds = coco.getImgIds()\n",
    "# imgIds = caption_ids\n",
    "\n",
    "for i in range(num_sentences):\n",
    "    idx = np.random.choice(imgIds)\n",
    "    \n",
    "    seqs = model.infer(descriptors_train[idx].reshape(1,-1), start_id=word_id['START'], end_id=word_id['END'])\n",
    "    seq = seqs[0]\n",
    "    print('PRED:', ' '.join([id_word[w] for w in seq if id_word[w] not in ('START', 'END')]))\n",
    "    \n",
    "    annIds = coco.getAnnIds(imgIds=[idx])\n",
    "    anns = coco.loadAnns(annIds)\n",
    "    for a in anns:\n",
    "        print('TRUE:', a['caption'])\n",
    "    print()"
   ]
  },
  {
   "cell_type": "code",
   "execution_count": null,
   "metadata": {
    "collapsed": true
   },
   "outputs": [],
   "source": []
  }
 ],
 "metadata": {
  "kernelspec": {
   "display_name": "Python [conda env:pisa-txa]",
   "language": "python",
   "name": "conda-env-pisa-txa-py"
  },
  "language_info": {
   "codemirror_mode": {
    "name": "ipython",
    "version": 3
   },
   "file_extension": ".py",
   "mimetype": "text/x-python",
   "name": "python",
   "nbconvert_exporter": "python",
   "pygments_lexer": "ipython3",
   "version": "3.6.2"
  }
 },
 "nbformat": 4,
 "nbformat_minor": 2
}
