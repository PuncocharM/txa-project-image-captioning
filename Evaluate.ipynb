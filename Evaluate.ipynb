{
 "cells": [
  {
   "cell_type": "markdown",
   "metadata": {},
   "source": [
    "Note: this needs python 2.7 kernel"
   ]
  },
  {
   "cell_type": "code",
   "execution_count": 1,
   "metadata": {
    "collapsed": true
   },
   "outputs": [],
   "source": [
    "%matplotlib inline\n",
    "from pycocotools.coco import COCO\n",
    "from coco_caption.pycocoevalcap.eval import COCOEvalCap\n",
    "import matplotlib.pyplot as plt\n",
    "import skimage.io as io\n",
    "import pylab\n",
    "pylab.rcParams['figure.figsize'] = (10.0, 8.0)\n",
    "\n",
    "import json\n",
    "from json import encoder\n",
    "encoder.FLOAT_REPR = lambda o: format(o, '.3f')\n",
    "\n",
    "from config import ms_coco_dir"
   ]
  },
  {
   "cell_type": "code",
   "execution_count": 2,
   "metadata": {},
   "outputs": [
    {
     "name": "stdout",
     "output_type": "stream",
     "text": [
      "loading annotations into memory...\n",
      "Done (t=0.18s)\n",
      "creating index...\n",
      "index created!\n",
      "Loading and preparing results...\n",
      "DONE (t=0.03s)\n",
      "creating index...\n",
      "index created!\n",
      "tokenization...\n",
      "setting up scorers...\n",
      "computing Bleu score...\n",
      "{'reflen': 49892, 'guess': [51686, 46744, 41802, 36860], 'testlen': 51686, 'correct': [24148, 7522, 2385, 826]}\n",
      "ratio: 1.03595766856\n",
      "Bleu_1: 0.467\n",
      "Bleu_2: 0.274\n",
      "Bleu_3: 0.162\n",
      "Bleu_4: 0.099\n",
      "computing Rouge score...\n",
      "ROUGE_L: 0.351\n",
      "computing CIDEr score...\n",
      "CIDEr: 0.347\n"
     ]
    }
   ],
   "source": [
    "resFile = 'predictions/knn-fc6-euc.json'\n",
    "\n",
    "annFile = '%s/annotations/captions_val2017.json' % ms_coco_dir\n",
    "evalFile = '%s/captions_val2017.json' % ms_coco_dir\n",
    "\n",
    "coco = COCO(annFile)\n",
    "cocoRes = coco.loadRes(resFile)\n",
    "\n",
    "cocoEval = COCOEvalCap(coco, cocoRes)\n",
    "cocoEval.params['image_id'] = cocoRes.getImgIds()  # evaluate on a subset of images\n",
    "cocoEval.evaluate()"
   ]
  },
  {
   "cell_type": "code",
   "execution_count": 3,
   "metadata": {
    "scrolled": true
   },
   "outputs": [],
   "source": [
    "with open(resFile[:-5] + '-evaluation.json', 'w') as f:\n",
    "    json.dump(cocoEval.eval, f)"
   ]
  },
  {
   "cell_type": "code",
   "execution_count": null,
   "metadata": {
    "collapsed": true
   },
   "outputs": [],
   "source": []
  }
 ],
 "metadata": {
  "kernelspec": {
   "display_name": "Python [conda env:pisa-txa-2-7]",
   "language": "python",
   "name": "conda-env-pisa-txa-2-7-py"
  },
  "language_info": {
   "codemirror_mode": {
    "name": "ipython",
    "version": 2
   },
   "file_extension": ".py",
   "mimetype": "text/x-python",
   "name": "python",
   "nbconvert_exporter": "python",
   "pygments_lexer": "ipython2",
   "version": "2.7.14"
  }
 },
 "nbformat": 4,
 "nbformat_minor": 1
}
