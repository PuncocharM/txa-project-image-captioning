{
 "cells": [
  {
   "cell_type": "markdown",
   "metadata": {},
   "source": [
    "## Results"
   ]
  },
  {
   "cell_type": "code",
   "execution_count": 4,
   "metadata": {
    "scrolled": true
   },
   "outputs": [
    {
     "data": {
      "text/html": [
       "<div>\n",
       "<style scoped>\n",
       "    .dataframe tbody tr th:only-of-type {\n",
       "        vertical-align: middle;\n",
       "    }\n",
       "\n",
       "    .dataframe tbody tr th {\n",
       "        vertical-align: top;\n",
       "    }\n",
       "\n",
       "    .dataframe thead th {\n",
       "        text-align: right;\n",
       "    }\n",
       "</style>\n",
       "<table border=\"1\" class=\"dataframe\">\n",
       "  <thead>\n",
       "    <tr style=\"text-align: right;\">\n",
       "      <th></th>\n",
       "      <th>model</th>\n",
       "      <th>Bleu_1</th>\n",
       "      <th>Bleu_2</th>\n",
       "      <th>Bleu_3</th>\n",
       "      <th>Bleu_4</th>\n",
       "      <th>CIDEr</th>\n",
       "      <th>ROUGE_L</th>\n",
       "    </tr>\n",
       "  </thead>\n",
       "  <tbody>\n",
       "    <tr>\n",
       "      <th>0</th>\n",
       "      <td>Nearest neighbour (euclidean) fc6</td>\n",
       "      <td>0.467</td>\n",
       "      <td>0.274</td>\n",
       "      <td>0.162</td>\n",
       "      <td>0.099</td>\n",
       "      <td>0.347</td>\n",
       "      <td>0.351</td>\n",
       "    </tr>\n",
       "    <tr>\n",
       "      <th>1</th>\n",
       "      <td>Nearest neighbour (cosine) fc6</td>\n",
       "      <td>0.492</td>\n",
       "      <td>0.296</td>\n",
       "      <td>0.179</td>\n",
       "      <td>0.111</td>\n",
       "      <td>0.400</td>\n",
       "      <td>0.366</td>\n",
       "    </tr>\n",
       "    <tr>\n",
       "      <th>2</th>\n",
       "      <td>Nearet neighbour (cosine) xception</td>\n",
       "      <td>0.509</td>\n",
       "      <td>0.312</td>\n",
       "      <td>0.191</td>\n",
       "      <td>0.119</td>\n",
       "      <td>0.464</td>\n",
       "      <td>0.379</td>\n",
       "    </tr>\n",
       "    <tr>\n",
       "      <th>3</th>\n",
       "      <td>LSTM after 1000 steps</td>\n",
       "      <td>0.406</td>\n",
       "      <td>0.213</td>\n",
       "      <td>0.109</td>\n",
       "      <td>0.058</td>\n",
       "      <td>0.216</td>\n",
       "      <td>0.307</td>\n",
       "    </tr>\n",
       "    <tr>\n",
       "      <th>4</th>\n",
       "      <td>LSTM after 3050 steps</td>\n",
       "      <td>0.439</td>\n",
       "      <td>0.242</td>\n",
       "      <td>0.133</td>\n",
       "      <td>0.074</td>\n",
       "      <td>0.289</td>\n",
       "      <td>0.328</td>\n",
       "    </tr>\n",
       "  </tbody>\n",
       "</table>\n",
       "</div>"
      ],
      "text/plain": [
       "                                model  Bleu_1  Bleu_2  Bleu_3  Bleu_4  CIDEr  \\\n",
       "0   Nearest neighbour (euclidean) fc6   0.467   0.274   0.162   0.099  0.347   \n",
       "1      Nearest neighbour (cosine) fc6   0.492   0.296   0.179   0.111  0.400   \n",
       "2  Nearet neighbour (cosine) xception   0.509   0.312   0.191   0.119  0.464   \n",
       "3               LSTM after 1000 steps   0.406   0.213   0.109   0.058  0.216   \n",
       "4               LSTM after 3050 steps   0.439   0.242   0.133   0.074  0.289   \n",
       "\n",
       "   ROUGE_L  \n",
       "0    0.351  \n",
       "1    0.366  \n",
       "2    0.379  \n",
       "3    0.307  \n",
       "4    0.328  "
      ]
     },
     "execution_count": 4,
     "metadata": {},
     "output_type": "execute_result"
    }
   ],
   "source": [
    "import pandas as pd\n",
    "df = pd.DataFrame(columns=['model', 'Bleu_1', 'Bleu_2', 'Bleu_3', 'Bleu_4', 'CIDEr', 'ROUGE_L'])\n",
    "for model, file_name in [\n",
    "    ('Nearest neighbour (euclidean) fc6', 'knn-fc6-euc-evaluation.json'),\n",
    "    ('Nearest neighbour (cosine) fc6', 'knn-fc6-cosine-evaluation.json'),\n",
    "    ('Nearet neighbour (cosine) xception', 'knn-xception-cosine-evaluation.json'),\n",
    "    ('LSTM after 1000 steps', 'lstm-1000-evaluation.json'),\n",
    "    ('LSTM after 3050 steps', 'lstm-3050-evaluation.json')\n",
    "]:\n",
    "    with open('predictions/' + file_name, 'r') as f:\n",
    "        d = json.load(f)\n",
    "        d['model'] = model\n",
    "        df = df.append(d, ignore_index=True)\n",
    "        \n",
    "df"
   ]
  },
  {
   "cell_type": "code",
   "execution_count": 19,
   "metadata": {},
   "outputs": [
    {
     "data": {
      "text/plain": [
       "'10.2346'"
      ]
     },
     "execution_count": 19,
     "metadata": {},
     "output_type": "execute_result"
    }
   ],
   "source": [
    "'{:.4f}'.format(10.23456789)"
   ]
  },
  {
   "cell_type": "markdown",
   "metadata": {},
   "source": [
    "## Evaluation\n",
    "\n",
    "Note: this needs python 2.7 kernel"
   ]
  },
  {
   "cell_type": "code",
   "execution_count": 1,
   "metadata": {
    "collapsed": true
   },
   "outputs": [],
   "source": [
    "%matplotlib inline\n",
    "from pycocotools.coco import COCO\n",
    "from coco_caption.pycocoevalcap.eval import COCOEvalCap\n",
    "import matplotlib.pyplot as plt\n",
    "import skimage.io as io\n",
    "import pylab\n",
    "pylab.rcParams['figure.figsize'] = (10.0, 8.0)\n",
    "\n",
    "import json\n",
    "from json import encoder\n",
    "encoder.FLOAT_REPR = lambda o: format(o, '.3f')\n",
    "\n",
    "from config import ms_coco_dir"
   ]
  },
  {
   "cell_type": "code",
   "execution_count": 2,
   "metadata": {},
   "outputs": [
    {
     "name": "stdout",
     "output_type": "stream",
     "text": [
      "loading annotations into memory...\n",
      "Done (t=0.43s)\n",
      "creating index...\n",
      "index created!\n",
      "Loading and preparing results...\n",
      "DONE (t=0.03s)\n",
      "creating index...\n",
      "index created!\n",
      "tokenization...\n",
      "setting up scorers...\n",
      "computing Bleu score...\n",
      "{'reflen': 50466, 'guess': [52525, 47525, 42525, 37525], 'testlen': 52525, 'correct': [23055, 6318, 1720, 484]}\n",
      "ratio: 1.04079974636\n",
      "Bleu_1: 0.439\n",
      "Bleu_2: 0.242\n",
      "Bleu_3: 0.133\n",
      "Bleu_4: 0.074\n",
      "computing Rouge score...\n",
      "ROUGE_L: 0.328\n",
      "computing CIDEr score...\n",
      "CIDEr: 0.289\n"
     ]
    }
   ],
   "source": [
    "resFile = 'predictions/lstm-3050.json'\n",
    "\n",
    "annFile = '%s/annotations/captions_val2017.json' % ms_coco_dir\n",
    "\n",
    "coco = COCO(annFile)\n",
    "cocoRes = coco.loadRes(resFile)\n",
    "\n",
    "cocoEval = COCOEvalCap(coco, cocoRes)\n",
    "cocoEval.params['image_id'] = cocoRes.getImgIds()  # evaluate on a subset of images\n",
    "cocoEval.evaluate()"
   ]
  },
  {
   "cell_type": "code",
   "execution_count": 3,
   "metadata": {
    "collapsed": true,
    "scrolled": true
   },
   "outputs": [],
   "source": [
    "with open(resFile[:-5] + '-evaluation.json', 'w') as f:\n",
    "    json.dump(cocoEval.eval, f)"
   ]
  },
  {
   "cell_type": "code",
   "execution_count": null,
   "metadata": {
    "collapsed": true
   },
   "outputs": [],
   "source": []
  }
 ],
 "metadata": {
  "kernelspec": {
   "display_name": "Python [conda env:pisa-txa-2-7]",
   "language": "python",
   "name": "conda-env-pisa-txa-2-7-py"
  },
  "language_info": {
   "codemirror_mode": {
    "name": "ipython",
    "version": 2
   },
   "file_extension": ".py",
   "mimetype": "text/x-python",
   "name": "python",
   "nbconvert_exporter": "python",
   "pygments_lexer": "ipython2",
   "version": "2.7.14"
  }
 },
 "nbformat": 4,
 "nbformat_minor": 1
}
