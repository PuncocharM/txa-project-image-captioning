{
 "cells": [
  {
   "cell_type": "markdown",
   "metadata": {},
   "source": [
    "This visualizes the results from training on server.\n",
    "Run run_train.py on the server, then download the checkpoints, vocab.pic, losses.npy and config.py."
   ]
  },
  {
   "cell_type": "code",
   "execution_count": 1,
   "metadata": {
    "collapsed": true
   },
   "outputs": [],
   "source": [
    "%matplotlib inline\n",
    "import numpy as np\n",
    "import matplotlib.pyplot as plt\n",
    "import pylab\n",
    "pylab.rcParams['figure.figsize'] = (8.0, 6.0)\n",
    "import tensorflow as tf\n",
    "import importlib\n",
    "import pickle"
   ]
  },
  {
   "cell_type": "code",
   "execution_count": 2,
   "metadata": {},
   "outputs": [
    {
     "data": {
      "text/plain": [
       "[<matplotlib.lines.Line2D at 0xc64a0b8>]"
      ]
     },
     "execution_count": 2,
     "metadata": {},
     "output_type": "execute_result"
    },
    {
     "data": {
      "image/png": "[encoded data removed]",
      "text/plain": [
       "<matplotlib.figure.Figure at 0xc4eaf60>"
      ]
     },
     "metadata": {},
     "output_type": "display_data"
    }
   ],
   "source": [
    "losses = np.load('losses.npy')\n",
    "plt.semilogy(losses)"
   ]
  },
  {
   "cell_type": "markdown",
   "metadata": {},
   "source": [
    "## Infer"
   ]
  },
  {
   "cell_type": "code",
   "execution_count": 3,
   "metadata": {
    "collapsed": true
   },
   "outputs": [],
   "source": [
    "# reload the module and reimport in case of change in code\n",
    "import lstm_language_model\n",
    "importlib.reload(lstm_language_model)\n",
    "from lstm_language_model import RNNLanguageModel"
   ]
  },
  {
   "cell_type": "code",
   "execution_count": 4,
   "metadata": {},
   "outputs": [
    {
     "data": {
      "text/plain": [
       "16750"
      ]
     },
     "execution_count": 4,
     "metadata": {},
     "output_type": "execute_result"
    }
   ],
   "source": [
    "# We need to download the vocab, because the tokenization is done differently there than on my laptop (don't know why).\n",
    "with open('vocab.pic', 'rb') as f:\n",
    "    vocab = pickle.load(f)\n",
    "id_word = [v[0] for v in vocab]\n",
    "word_id = {w:i for i,w in enumerate(id_word)}\n",
    "vocab_size = len(vocab)\n",
    "vocab_size"
   ]
  },
  {
   "cell_type": "code",
   "execution_count": 6,
   "metadata": {},
   "outputs": [
    {
     "name": "stdout",
     "output_type": "stream",
     "text": [
      "INFO:tensorflow:Restoring parameters from from-server/checkpoints/coco.ckp-1000\n"
     ]
    }
   ],
   "source": [
    "import config\n",
    "importlib.reload(config)\n",
    "from config import *\n",
    "\n",
    "tf.reset_default_graph()\n",
    "sess = tf.Session()\n",
    "model = RNNLanguageModel(embedding_size=embeding_size, learning_rate=learning_rate, lstm_size=lstm_size, num_steps=num_steps, vocab_size=vocab_size, sess=sess, checkpoint_path=checkpoint_path)\n",
    "model.build(model_type='infer')\n",
    "model.saver.restore(sess, 'from-server/' + checkpoint_path + '-1000')"
   ]
  },
  {
   "cell_type": "code",
   "execution_count": 7,
   "metadata": {},
   "outputs": [
    {
     "name": "stdout",
     "output_type": "stream",
     "text": [
      "A couple of men playing a game of frisbee watching END \n",
      "A group of young men walking next to a truck with graffiti . END \n",
      "many elephants tree in a dirt lot door for a fence END \n",
      "a man in the snow skiing stands in a living room END \n",
      "People near the ocean with their boards on the front of a vintage train . END \n",
      "a desktop and a book with her hand . END \n",
      "Different kinds of food contains glass of broccoli and pepperoni . END \n",
      "A man carrying a surfboard upside down on the beach . END \n",
      "an industrial sized bowl on a table by a spoon END \n",
      "Woman on display in small boat with his feet up END \n",
      "A couple of kids sitting at a table near a cup with a drink of water . END \n",
      "See picture of a formal affair surrounding it on the beach . END \n",
      "Different fruits being prepared in a living room . END \n",
      "A kitchen is shown filled with pots and pans . END \n",
      "Some sheep and goats graze in a grass trough he huddled together . END \n",
      "Two people playing frisbee jumping in the air . END \n",
      "A large black bear standing next to a truck . END \n",
      "This pasta salad is a enough to use . END \n",
      "A young girl eating in a baking small kitchen . END \n",
      "A giraffe is eating in several show some large wooden structures . END \n",
      "A little boy in a field near a net . END \n",
      "A bathroom has the lid of a bathroom mirror . END \n",
      "Pitcher end on a plate of potatoes with potatoes , broccoli and sausage . END \n",
      "Two elephants covered in tall brush on dirt path . END \n",
      "A woman is sitting in a chair holding a frisbee . END \n",
      "A few women decorating a sink and evil looking for food on a counter . END \n",
      "a person jumping a skate board rides her bike END \n",
      "A STREET SIGN OUTSIDE A women holding a fork in their hand END \n",
      "A close shot of a stuffed animal teddy bear sitting on a corch END \n",
      "A little girl wearing a blue lipstick and a drink in a hospital bed . END \n",
      "A couple of sheep are eating from a ground . END \n",
      "multiple indoor clocks laugh together to make a notebook chair out from the house END \n",
      "A city street sign post with street names on it . END \n",
      "Three woman holding their phone in a kitchen END \n",
      "There is an ad mid-jump on a plate setting . END \n",
      "A skateboarder is in a parking lot while riding hangers . END \n",
      "People sitting on an umbrella in the rain covered snow . END \n",
      "A dining room table and a desk office with a file . END \n",
      "A cat sitting on a wooden stand alone . END \n",
      "a woman holding soccer ball towards the goal in a traditional . END \n",
      "Close up of a person holding a pizza on the grassy "
     ]
    }
   ],
   "source": [
    "seq = ['START']\n",
    "seq = [word_id[s] for s in seq]\n",
    "state = init_state = np.zeros((2, 1, lstm_size))\n",
    "\n",
    "num_words = 500\n",
    "\n",
    "for i in range(len(seq)-1, num_words):\n",
    "    p, state = model.infer(np.reshape(seq[-1], (1,1)), np.array([1]), state)\n",
    "#     max_id = np.argmax(p)\n",
    "    p = p.reshape([-1])\n",
    "    max_id = np.random.choice(list(range(len(p))), p=p)\n",
    "    seq.append(max_id)\n",
    "    print(id_word[max_id], end=' ')\n",
    "    if max_id == word_id['END']: # restart the sentence\n",
    "        print()\n",
    "        seq.append(word_id['START'])\n",
    "        state = init_state"
   ]
  },
  {
   "cell_type": "code",
   "execution_count": null,
   "metadata": {
    "collapsed": true
   },
   "outputs": [],
   "source": []
  }
 ],
 "metadata": {
  "kernelspec": {
   "display_name": "Python [conda env:pisa-txa]",
   "language": "python",
   "name": "conda-env-pisa-txa-py"
  },
  "language_info": {
   "codemirror_mode": {
    "name": "ipython",
    "version": 3
   },
   "file_extension": ".py",
   "mimetype": "text/x-python",
   "name": "python",
   "nbconvert_exporter": "python",
   "pygments_lexer": "ipython3",
   "version": "3.6.2"
  }
 },
 "nbformat": 4,
 "nbformat_minor": 2
}
