{
 "cells": [
  {
   "cell_type": "code",
   "execution_count": 1,
   "metadata": {
    "collapsed": true
   },
   "outputs": [],
   "source": [
    "%matplotlib inline\n",
    "import numpy as np\n",
    "import matplotlib.pyplot as plt\n",
    "import pylab\n",
    "pylab.rcParams['figure.figsize'] = (8.0, 6.0)\n",
    "import tensorflow as tf\n",
    "import importlib"
   ]
  },
  {
   "cell_type": "markdown",
   "metadata": {},
   "source": [
    "## Prepare dataset"
   ]
  },
  {
   "cell_type": "code",
   "execution_count": 17,
   "metadata": {
    "collapsed": true
   },
   "outputs": [],
   "source": [
    "import utils, config\n",
    "importlib.reload(utils)\n",
    "importlib.reload(config)\n",
    "from utils import load_captions\n",
    "from config import *"
   ]
  },
  {
   "cell_type": "code",
   "execution_count": 2,
   "metadata": {},
   "outputs": [
    {
     "name": "stdout",
     "output_type": "stream",
     "text": [
      "loading annotations into memory...\n",
      "Done (t=1.95s)\n",
      "creating index...\n",
      "index created!\n",
      "118287 591753 5.002688376575617\n",
      "vocab size 310\n"
     ]
    }
   ],
   "source": [
    "X, Y, X_lens, vocab_size = load_captions(ms_coco_dir)"
   ]
  },
  {
   "cell_type": "markdown",
   "metadata": {},
   "source": [
    "## Train"
   ]
  },
  {
   "cell_type": "code",
   "execution_count": 3,
   "metadata": {
    "collapsed": true
   },
   "outputs": [],
   "source": [
    "# reload the module and reimport in case of change in code\n",
    "import lstm_language_model\n",
    "importlib.reload(lstm_language_model)\n",
    "from lstm_language_model import RNNLanguageModel"
   ]
  },
  {
   "cell_type": "code",
   "execution_count": 4,
   "metadata": {},
   "outputs": [],
   "source": [
    "tf.reset_default_graph()\n",
    "sess = tf.Session()\n",
    "\n",
    "model = RNNLanguageModel(embedding_size=embeding_size, learning_rate=learning_rate, lstm_size=lstm_size, num_steps=num_steps, vocab_size=vocab_size, sess=sess, checkpoint_path=checkpoint_path)\n",
    "model.build()\n",
    "\n",
    "sess.run(tf.global_variables_initializer())"
   ]
  },
  {
   "cell_type": "code",
   "execution_count": 5,
   "metadata": {},
   "outputs": [
    {
     "name": "stdout",
     "output_type": "stream",
     "text": [
      "epoch 1\n",
      "epoch 2\n",
      "epoch 3\n",
      "epoch 4\n",
      "epoch 5\n",
      "training loss after 10 steps: 2.05555105209\n",
      "Finished training\n",
      "Saved final model to checkpoints/coco.ckp-final\n",
      "Final training loss: 2.05555033684\n",
      "It took 00h 00m 03s\n"
     ]
    }
   ],
   "source": [
    "n_epochs = 5\n",
    "\n",
    "model.train(X, Y, X_lens, n_epochs, batch_size, save_every=100)"
   ]
  },
  {
   "cell_type": "code",
   "execution_count": 173,
   "metadata": {
    "collapsed": true
   },
   "outputs": [],
   "source": [
    "sess.close()"
   ]
  },
  {
   "cell_type": "code",
   "execution_count": 9,
   "metadata": {},
   "outputs": [
    {
     "data": {
      "text/plain": [
       "[<matplotlib.lines.Line2D at 0x2a262588>]"
      ]
     },
     "execution_count": 9,
     "metadata": {},
     "output_type": "execute_result"
    },
    {
     "data": {
      "image/png": "[encoded data removed]",
      "text/plain": [
       "<matplotlib.figure.Figure at 0x2cdaa438>"
      ]
     },
     "metadata": {},
     "output_type": "display_data"
    }
   ],
   "source": [
    "losses = np.load('losses.npy')\n",
    "plt.semilogy(losses)"
   ]
  },
  {
   "cell_type": "markdown",
   "metadata": {},
   "source": [
    "## Infer"
   ]
  },
  {
   "cell_type": "code",
   "execution_count": 10,
   "metadata": {
    "collapsed": true
   },
   "outputs": [],
   "source": [
    "# reload the module and reimport in case of change in code\n",
    "import lstm_language_model\n",
    "importlib.reload(lstm_language_model)\n",
    "from lstm_language_model import RNNLanguageModel"
   ]
  },
  {
   "cell_type": "code",
   "execution_count": 11,
   "metadata": {},
   "outputs": [
    {
     "data": {
      "text/plain": [
       "16750"
      ]
     },
     "execution_count": 11,
     "metadata": {},
     "output_type": "execute_result"
    }
   ],
   "source": [
    "import pickle\n",
    "with open('vocab.pic', 'rb') as f:\n",
    "    vocab = pickle.load(f)\n",
    "id_word = [v[0] for v in vocab]\n",
    "word_id = {w:i for i,w in enumerate(id_word)}\n",
    "vocab_size = len(vocab)\n",
    "vocab_size"
   ]
  },
  {
   "cell_type": "code",
   "execution_count": 21,
   "metadata": {},
   "outputs": [
    {
     "name": "stdout",
     "output_type": "stream",
     "text": [
      "INFO:tensorflow:Restoring parameters from from-server/checkpoints/coco.ckp-1000\n"
     ]
    }
   ],
   "source": [
    "importlib.reload(config)\n",
    "from config import *\n",
    "\n",
    "tf.reset_default_graph()\n",
    "sess = tf.Session()\n",
    "model = RNNLanguageModel(embedding_size=embeding_size, learning_rate=learning_rate, lstm_size=lstm_size, num_steps=num_steps, vocab_size=vocab_size, sess=sess, checkpoint_path=checkpoint_path)\n",
    "model.build(model_type='infer')\n",
    "model.saver.restore(sess, 'from-server/' + checkpoint_path + '-1000')"
   ]
  },
  {
   "cell_type": "code",
   "execution_count": 22,
   "metadata": {},
   "outputs": [
    {
     "name": "stdout",
     "output_type": "stream",
     "text": [
      "A stack of industrial paint kitchen that looks like a curtain . END \n",
      "A man is flying through the air while riding a skateboard . END \n",
      "A traffic light and an air force jet aircraft over it flying as passengers through the woods END \n",
      "A kitchen table with a modern pantry rose . END \n",
      "Women boy making faces their leg by a blow out a Nintendo Wii . END \n",
      "A remote control that has been feels the word hand . END \n",
      "A photo of a pickup truck sitting in a wildlife park END \n",
      "A man and woman fly kites in the air while riding skis . END \n",
      "a person shavinfg a blow out of a car END \n",
      "a man is talking on a cell phone as he stands on a city street END \n",
      "The view from the boat with part of the bathtub . END \n",
      "A white table topped with a fork has an orchid on top of pillows . END \n",
      "The walls in the bathroom has a digital changing table . END \n",
      "A boy sheering a microphone on a skateboard . END \n",
      "People playing tennis on a tennis court playing frisbee . END \n",
      "Heart shaped pepperoni and muffins sits on a rainy day . END \n",
      "The man is surfing on the water in the water . END \n",
      "Two horses eating grass their car has two dogs . END \n",
      "A leopard print bike sitting on a sidewalk next to a dead end care . END \n",
      "A boy riding down a pair of skis . END \n",
      "A white and cheese cake on top of surfboards . END \n",
      "A large long train on the tracks next to a tree . END \n",
      "black and white dog leaps and attempting to the photographer from a small body of water END \n",
      "The woman is walking past the view of the board . END \n",
      "a rag close up of a bowl on a plate on a table END \n",
      "a pregnant zebra standing by a fence and a fence END \n",
      "A double decker bus stopped at a bus stop . END \n",
      "A metal hook with food on a large sink with flowers . END \n",
      "A fruit , produce , and varieties . person on surfboard END \n",
      "A man lies on the beach with a guitar with a remote control dangling on it . END \n",
      "A small dog is sleeping on its back with a dog in its mouth . END \n",
      "A person skiing on the slope and waits while another dog follows through him . END \n",
      "A plate of food containing meat , tater tots , and tomatoes . END \n",
      "a bathroom that has a white tiled wall END \n",
      "A woman is a sandwich before an object to swing . END \n",
      "Young man eating hot dogs with fingers on bread END \n",
      "A birthday cake with many candles acts it and walking around the market now . END \n",
      "Two stuffed animals look like a chilidog . END \n",
      "A white dog smiling for a picture with his head . "
     ]
    }
   ],
   "source": [
    "seq = ['START']\n",
    "seq = [word_id[s] for s in seq]\n",
    "state = init_state = np.zeros((2, 1, lstm_size))\n",
    "\n",
    "num_words = 500\n",
    "\n",
    "for i in range(len(seq)-1, num_words):\n",
    "    p, state = model.infer(np.reshape(seq[-1], (1,1)), np.array([1]), state)\n",
    "#     max_id = np.argmax(p)\n",
    "    p = p.reshape([-1])\n",
    "    max_id = np.random.choice(list(range(len(p))), p=p)\n",
    "    seq.append(max_id)\n",
    "    print(id_word[max_id], end=' ')\n",
    "    if max_id == word_id['END']: # restart the sentence\n",
    "        print()\n",
    "        seq.append(word_id['START'])\n",
    "        state = init_state"
   ]
  },
  {
   "cell_type": "code",
   "execution_count": null,
   "metadata": {
    "collapsed": true
   },
   "outputs": [],
   "source": []
  }
 ],
 "metadata": {
  "kernelspec": {
   "display_name": "Python [conda env:pisa-txa]",
   "language": "python",
   "name": "conda-env-pisa-txa-py"
  },
  "language_info": {
   "codemirror_mode": {
    "name": "ipython",
    "version": 3
   },
   "file_extension": ".py",
   "mimetype": "text/x-python",
   "name": "python",
   "nbconvert_exporter": "python",
   "pygments_lexer": "ipython3",
   "version": "3.6.2"
  }
 },
 "nbformat": 4,
 "nbformat_minor": 2
}
