{
 "cells": [
  {
   "cell_type": "markdown",
   "metadata": {},
   "source": [
    "## TODO:\n",
    "\n",
    " * better batching mechanism (maybe the prebuilt in TF)\n",
    " * try different optimizer (SGD with momentum, RMSProp) ?\n",
    " * learning rate decay ?\n",
    " * dropout, more layers, gradient clipping, bidirectional, ... ?\n",
    " * beam search"
   ]
  },
  {
   "cell_type": "code",
   "execution_count": 1,
   "metadata": {
    "collapsed": true
   },
   "outputs": [],
   "source": [
    "import pandas as pd\n",
    "import matplotlib.pyplot as plt\n",
    "%matplotlib inline\n",
    "import numpy as np\n",
    "import re\n",
    "import nltk\n",
    "import tensorflow as tf\n",
    "import itertools"
   ]
  },
  {
   "cell_type": "markdown",
   "metadata": {},
   "source": [
    "## Prepare vocabulary and a training set\n",
    "\n",
    "I load the Sherlock holmes corpus and process it as follows:\n",
    " * All is converted to lowercase, all whitespace collapsed to a single space\n",
    " * nltk is used to tokenize into sentences and words. Special tokens START and END are added to the beginning and end of each sentence\n",
    " * Only the first 500 sentences are used for training (for simplicity and speed of learning)\n",
    " * All words are kept. Later we may drop all words frequent less than a threshold, or replace them with UNKNOWN token\n",
    " * Longer sentences are trimmed to length of 50 words, shorter sentences are padded (and masking is used in the training)."
   ]
  },
  {
   "cell_type": "code",
   "execution_count": 2,
   "metadata": {
    "collapsed": true
   },
   "outputs": [],
   "source": [
    "with open('../txa-hw/hw2/pg1661.txt', encoding='utf-8') as f:\n",
    "    original_text = f.read()\n",
    "# Strip meta info and table of contents at the beginning and licence at the end -> use only the book itself.\n",
    "text = original_text[re.search('ADVENTURE I', original_text).start() : re.search('End of the Project Gutenberg EBook', original_text).start()]\n",
    "text = text.lower().strip()\n",
    "text = re.sub('\\s+', ' ', text) # replace whitespaces with single space"
   ]
  },
  {
   "cell_type": "code",
   "execution_count": 3,
   "metadata": {
    "collapsed": true
   },
   "outputs": [],
   "source": [
    "sentences = nltk.sent_tokenize(text)\n",
    "\n",
    "token_start = 'START'\n",
    "token_end = 'END'\n",
    "tok_sentences = [[token_start] + [w for w in nltk.word_tokenize(s) if w] + [token_end] for s in sentences]\n",
    "\n",
    "train_size = 100  # limit training set to this number of first sentences\n",
    "tok_sentences = tok_sentences[:train_size]"
   ]
  },
  {
   "cell_type": "code",
   "execution_count": 4,
   "metadata": {
    "collapsed": true
   },
   "outputs": [],
   "source": [
    "freq_dist = nltk.FreqDist(itertools.chain(*tok_sentences))\n",
    "\n",
    "freq_threshold = 0\n",
    "vocab = [(k,v) for k,v in freq_dist.items() if v >= freq_threshold]\n",
    "vocab_size = len(vocab)\n",
    "id_word = [v[0] for v in vocab]\n",
    "word_id = {w:i for i,w in enumerate(id_word)}\n",
    "\n",
    "# drop all words not in vocabulary (less frequent than freq_threshold)\n",
    "# maybe to replace them with special token would be better?\n",
    "# now we actually don't drop anything\n",
    "tok_sentences = [[w for w in s if w in word_id] for s in tok_sentences]\n",
    "\n",
    "max_len = 50\n",
    "\n",
    "# cut all sentences to max_len\n",
    "tok_sentences = [s[:max_len] for s in tok_sentences]"
   ]
  },
  {
   "cell_type": "code",
   "execution_count": 5,
   "metadata": {},
   "outputs": [
    {
     "data": {
      "text/plain": [
       "662"
      ]
     },
     "execution_count": 5,
     "metadata": {},
     "output_type": "execute_result"
    }
   ],
   "source": [
    "vocab_size"
   ]
  },
  {
   "cell_type": "code",
   "execution_count": 6,
   "metadata": {
    "collapsed": true
   },
   "outputs": [],
   "source": [
    "X = [[word_id[w] for w in s[:-1]] for s in tok_sentences]\n",
    "Y = [[word_id[w] for w in s[1:]] for s in tok_sentences]  # shift-by-1 X, next-word prediction\n",
    "\n",
    "X_lens = np.asarray([len(x) for x in X])\n",
    "# Y_lens = [len(y) for y in Y]\n",
    "\n",
    "# pad with zeros to max_len\n",
    "X = np.asarray([np.pad(x, (0,max_len-len(x)), 'constant') for x in X])\n",
    "Y = np.asarray([np.pad(y, (0,max_len-len(y)), 'constant') for y in Y])"
   ]
  },
  {
   "cell_type": "markdown",
   "metadata": {},
   "source": [
    "## Build model and train"
   ]
  },
  {
   "cell_type": "code",
   "execution_count": 7,
   "metadata": {
    "collapsed": true
   },
   "outputs": [],
   "source": [
    "# reload the module and reimport in case of change in code\n",
    "import importlib\n",
    "import lstm_language_model\n",
    "importlib.reload(lstm_language_model)\n",
    "from lstm_language_model import RNNLanguageModel"
   ]
  },
  {
   "cell_type": "code",
   "execution_count": 52,
   "metadata": {
    "collapsed": true
   },
   "outputs": [],
   "source": [
    "num_steps = max_len  # max. number of timesteps\n",
    "embeding_size = 200\n",
    "input_size = X.shape[0]\n",
    "batch_size = 25\n",
    "lstm_size = 200 # n_hidden and state_size?\n",
    "learning_rate = 0.005\n",
    "checkpoint_path = 'checkpoints/sherlock.ckp'"
   ]
  },
  {
   "cell_type": "code",
   "execution_count": 53,
   "metadata": {},
   "outputs": [],
   "source": [
    "tf.reset_default_graph()\n",
    "sess = tf.Session()\n",
    "# sess = tf.Session(config=tf.ConfigProto(log_device_placement=True))\n",
    "\n",
    "model = RNNLanguageModel(learning_rate=learning_rate, embedding_size=embeding_size, lstm_size=lstm_size, num_steps=num_steps, vocab_size=vocab_size, sess=sess, checkpoint_path=checkpoint_path)\n",
    "model.build(model_type='train')\n",
    "\n",
    "sess.run(tf.global_variables_initializer())"
   ]
  },
  {
   "cell_type": "code",
   "execution_count": 54,
   "metadata": {
    "scrolled": true
   },
   "outputs": [
    {
     "name": "stdout",
     "output_type": "stream",
     "text": [
      "epoch 1\n",
      "epoch 2\n",
      "training loss after 5 steps: 3.4260020256 elapsed time: 00h 00m 02s\n",
      "epoch 3\n",
      "training loss after 10 steps: 1.82269477844 elapsed time: 00h 00m 04s\n",
      "epoch 4\n",
      "training loss after 15 steps: 0.885439217091 elapsed time: 00h 00m 06s\n",
      "epoch 5\n",
      "training loss after 20 steps: 0.464388102293 elapsed time: 00h 00m 08s\n",
      "saved model to checkpoints/sherlock.ckp-20\n",
      "epoch 6\n",
      "epoch 7\n",
      "training loss after 25 steps: 0.338384181261 elapsed time: 00h 00m 11s\n",
      "epoch 8\n",
      "training loss after 30 steps: 0.309390157461 elapsed time: 00h 00m 13s\n",
      "epoch 9\n",
      "training loss after 35 steps: 0.292283564806 elapsed time: 00h 00m 15s\n",
      "epoch 10\n",
      "training loss after 40 steps: 0.288000762463 elapsed time: 00h 00m 17s\n",
      "saved model to checkpoints/sherlock.ckp-40\n",
      "epoch 11\n",
      "epoch 12\n",
      "training loss after 45 steps: 0.280894309282 elapsed time: 00h 00m 21s\n",
      "epoch 13\n",
      "training loss after 50 steps: 0.272980362177 elapsed time: 00h 00m 23s\n",
      "epoch 14\n",
      "training loss after 55 steps: 0.283316373825 elapsed time: 00h 00m 24s\n",
      "epoch 15\n",
      "training loss after 60 steps: 0.268651634455 elapsed time: 00h 00m 26s\n",
      "saved model to checkpoints/sherlock.ckp-60\n",
      "epoch 16\n",
      "epoch 17\n",
      "training loss after 65 steps: 0.263331741095 elapsed time: 00h 00m 30s\n",
      "epoch 18\n",
      "training loss after 70 steps: 0.270344823599 elapsed time: 00h 00m 32s\n",
      "epoch 19\n",
      "training loss after 75 steps: 0.267868936062 elapsed time: 00h 00m 34s\n",
      "epoch 20\n",
      "training loss after 80 steps: 0.258104592562 elapsed time: 00h 00m 36s\n",
      "saved model to checkpoints/sherlock.ckp-80\n",
      "Finished training\n",
      "Saved final model to checkpoints/sherlock.ckp-final\n",
      "Final training loss: 0.258104592562\n",
      "It took 00h 00m 39s\n"
     ]
    }
   ],
   "source": [
    "n_epochs = 20\n",
    "\n",
    "model.train(X, Y, X_lens, n_epochs, batch_size, evaluate_every=5, save_every=20)"
   ]
  },
  {
   "cell_type": "code",
   "execution_count": 55,
   "metadata": {
    "scrolled": true
   },
   "outputs": [
    {
     "data": {
      "text/plain": [
       "[<matplotlib.lines.Line2D at 0x171f44a8>]"
      ]
     },
     "execution_count": 55,
     "metadata": {},
     "output_type": "execute_result"
    },
    {
     "data": {
      "image/png": "[encoded data removed]",
      "text/plain": [
       "<matplotlib.figure.Figure at 0x175de668>"
      ]
     },
     "metadata": {},
     "output_type": "display_data"
    }
   ],
   "source": [
    "plt.semilogy(model.losses)"
   ]
  },
  {
   "cell_type": "code",
   "execution_count": 56,
   "metadata": {
    "collapsed": true
   },
   "outputs": [],
   "source": [
    "sess.close()"
   ]
  },
  {
   "cell_type": "markdown",
   "metadata": {},
   "source": [
    "## Generate text"
   ]
  },
  {
   "cell_type": "code",
   "execution_count": 57,
   "metadata": {},
   "outputs": [
    {
     "name": "stdout",
     "output_type": "stream",
     "text": [
      "INFO:tensorflow:Restoring parameters from checkpoints/sherlock.ckp-final\n"
     ]
    }
   ],
   "source": [
    "tf.reset_default_graph()\n",
    "sess = tf.Session()\n",
    "model.sess = sess\n",
    "model.build(model_type='infer')\n",
    "model.saver.restore(sess, checkpoint_path + '-final')"
   ]
  },
  {
   "cell_type": "code",
   "execution_count": 59,
   "metadata": {},
   "outputs": [
    {
     "name": "stdout",
     "output_type": "stream",
     "text": [
      "this account of you we have from all quarters received . END \n",
      "`` i think , watson , that you have put on seven and a half pounds since i saw you . '' END \n",
      "this account of you we have from all quarters received . END \n",
      "i do n't know . '' END \n",
      "'p , ' of course , stands for 'papier . ' END \n",
      "i answered . END \n",
      "you did not tell me that you intended to go into harness . '' END \n",
      "insensibly one begins to twist facts to suit theories , instead of theories to suit facts . END \n",
      "`` i have no data yet . END \n",
      "`` seven ! '' END \n",
      "his manner was not effusive . END \n",
      "as to mary jane , she is incorrigible , and my wife has given her notice , but there , again , i fail to see how you work it out . '' END \n",
      "and in practice again , i observe . END \n",
      "i carefully examined the writing , and the paper upon which it was written . END \n",
      "for example , you have frequently seen the steps which lead up from the hall to this room . '' END \n",
      "`` , then how do you know ? '' END \n",
      "`` how many ? END \n",
      "`` how often ? '' END \n",
      "she is just a trifle more , i fancy , watson . END \n",
      "for example , you have frequently seen the steps which lead up from the hall to this room . '' END \n",
      "`` then how many are there ? '' END \n",
      "`` peculiar -- that is the very word , '' said holmes . END \n",
      "i could not help laughing at the ease with which he explained his process of deduction . END \n",
      "`` i think , watson , that you have put on seven and a half pounds since i saw you . '' END \n",
      "he was still , as ever , deeply attracted by the study of crime , and occupied his immense faculties and extraordinary powers of observation in following out those clues , and clearing up those mysteries which had been abandoned as hopeless by the official police . END \n",
      "my own complete happiness , and the home-centred interests which rise up around the man who first finds himself master of his own establishment , were sufficient to absorb all my attention , while holmes , who loathed every form of society with his whole bohemian soul , remained , and indicated a dark silhouette against the blind . END \n",
      "`` wedlock suits you , '' he answered , lighting a cigarette , and throwing himself down into an armchair . END \n",
      "`` there will call upon you to-night , at a quarter to eight o'clock , '' it said , `` a gentleman who desires to consult you upon a matter of the very deepest moment . END \n",
      "he had risen out of his drug-created dreams and was hot "
     ]
    }
   ],
   "source": [
    "seq = ['START']\n",
    "seq = [word_id[s] for s in seq]\n",
    "state = init_state = np.zeros((2, 1, lstm_size))\n",
    "\n",
    "num_words = 500\n",
    "\n",
    "for i in range(len(seq)-1, num_words):\n",
    "    p, state = model.infer(np.reshape(seq[-1], (1,1)), np.array([1]), state)\n",
    "#     max_id = np.argmax(p)\n",
    "    p = p.reshape([-1])\n",
    "    max_id = np.random.choice(list(range(len(p))), p=p)\n",
    "    seq.append(max_id)\n",
    "    print(id_word[max_id], end=' ')\n",
    "    if max_id == word_id[token_end]: # restart the sentence\n",
    "        print()\n",
    "        seq.append(word_id[token_start])\n",
    "        state = init_state"
   ]
  },
  {
   "cell_type": "code",
   "execution_count": null,
   "metadata": {
    "collapsed": true
   },
   "outputs": [],
   "source": []
  }
 ],
 "metadata": {
  "kernelspec": {
   "display_name": "Python [conda env:pisa-txa]",
   "language": "python",
   "name": "conda-env-pisa-txa-py"
  },
  "language_info": {
   "codemirror_mode": {
    "name": "ipython",
    "version": 3
   },
   "file_extension": ".py",
   "mimetype": "text/x-python",
   "name": "python",
   "nbconvert_exporter": "python",
   "pygments_lexer": "ipython3",
   "version": "3.6.2"
  }
 },
 "nbformat": 4,
 "nbformat_minor": 2
}
