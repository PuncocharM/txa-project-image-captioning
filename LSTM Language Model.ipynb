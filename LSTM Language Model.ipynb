{
 "cells": [
  {
   "cell_type": "markdown",
   "metadata": {},
   "source": [
    "## TODO:\n",
    "\n",
    " * extract to class in .py file for better code reuse and overall cleanness. Separate the graphs in different sessions so that we can evaluate and infer while training at the same time.\n",
    " * better batching mechanism (maybe the prebuilt in TF)\n",
    " * try different optimizer (SGD with momentum, RMSProp) ?\n",
    " * learning rate decay ?\n",
    " * dropout, more layers, gradient clipping, bidirectional, ... ?\n",
    " * beam search"
   ]
  },
  {
   "cell_type": "code",
   "execution_count": 1,
   "metadata": {},
   "outputs": [],
   "source": [
    "import pandas as pd\n",
    "import matplotlib.pyplot as plt\n",
    "%matplotlib inline\n",
    "import numpy as np\n",
    "import re\n",
    "import nltk\n",
    "import tensorflow as tf\n",
    "import itertools"
   ]
  },
  {
   "cell_type": "markdown",
   "metadata": {},
   "source": [
    "## Prepare vocabulary and a training set\n",
    "\n",
    "I load the Sherlock holmes corpus and process it as follows:\n",
    " * All is converted to lowercase, all whitespace collapsed to a single space\n",
    " * nltk is used to tokenize into sentences and words. Special tokens START and END are added to the beginning and end of each sentence\n",
    " * Only first 100 sentences are used for training (for simplicity)\n",
    " * All words are kept. Later we may drop all words frequent less than a threshold, or replace them with UNKNOWN token\n",
    " * Longer sentences are trimmed to length of 50 words, shorter sentences are padded (and masking is used in the training)."
   ]
  },
  {
   "cell_type": "code",
   "execution_count": 2,
   "metadata": {
    "collapsed": true
   },
   "outputs": [],
   "source": [
    "with open('../txa-hw/hw2/pg1661.txt', encoding='utf-8') as f:\n",
    "    original_text = f.read()\n",
    "# Strip meta info and table of contents at the beginning and licence at the end -> use only the book itself.\n",
    "text = original_text[re.search('ADVENTURE I', original_text).start() : re.search('End of the Project Gutenberg EBook', original_text).start()]\n",
    "text = text.lower().strip()\n",
    "text = re.sub('\\s+', ' ', text) # replace whitespaces with single space"
   ]
  },
  {
   "cell_type": "code",
   "execution_count": 3,
   "metadata": {
    "collapsed": true
   },
   "outputs": [],
   "source": [
    "sentences = nltk.sent_tokenize(text)\n",
    "\n",
    "token_start = 'START'\n",
    "token_end = 'END'\n",
    "tok_sentences = [[token_start] + [w for w in nltk.word_tokenize(s) if w] + [token_end] for s in sentences]\n",
    "\n",
    "train_size = 100  # limit training set to this number of first sentences\n",
    "tok_sentences = tok_sentences[:train_size]"
   ]
  },
  {
   "cell_type": "code",
   "execution_count": 4,
   "metadata": {
    "collapsed": true
   },
   "outputs": [],
   "source": [
    "freq_dist = nltk.FreqDist(itertools.chain(*tok_sentences))\n",
    "\n",
    "freq_threshold = 0\n",
    "vocab = [(k,v) for k,v in freq_dist.items() if v >= freq_threshold]\n",
    "vocab_size = len(vocab)\n",
    "id_word = [v[0] for v in vocab]\n",
    "word_id = {w:i for i,w in enumerate(id_word)}\n",
    "\n",
    "# drop all words not in vocabulary (less frequent than freq_threshold)\n",
    "# maybe to replace them with special token would be better?\n",
    "# now we actually don't drop anything\n",
    "tok_sentences = [[w for w in s if w in word_id] for s in tok_sentences]\n",
    "\n",
    "max_len = 50\n",
    "\n",
    "# cut all sentences to max_len\n",
    "tok_sentences = [s[:max_len] for s in tok_sentences]"
   ]
  },
  {
   "cell_type": "code",
   "execution_count": 22,
   "metadata": {},
   "outputs": [
    {
     "data": {
      "text/plain": [
       "662"
      ]
     },
     "execution_count": 22,
     "metadata": {},
     "output_type": "execute_result"
    }
   ],
   "source": [
    "vocab_size"
   ]
  },
  {
   "cell_type": "code",
   "execution_count": 5,
   "metadata": {
    "collapsed": true
   },
   "outputs": [],
   "source": [
    "X = [[word_id[w] for w in s[:-1]] for s in tok_sentences]\n",
    "Y = [[word_id[w] for w in s[1:]] for s in tok_sentences]  # shift-by-1 X, next-word prediction\n",
    "\n",
    "X_lens = np.asarray([len(x) for x in X])\n",
    "# Y_lens = [len(y) for y in Y]\n",
    "\n",
    "# pad with zeros to max_len\n",
    "X = np.asarray([np.pad(x, (0,max_len-len(x)), 'constant') for x in X])\n",
    "Y = np.asarray([np.pad(y, (0,max_len-len(y)), 'constant') for y in Y])"
   ]
  },
  {
   "cell_type": "markdown",
   "metadata": {},
   "source": [
    "## Build train and eval graphs\n",
    "\n",
    "Two TensorFlow graphs are built. One for training and second for evaluation.\n",
    "\n",
    "Architecture:\n",
    " * embedding layer (no bias, no activation) maps word indices to a dense vectors\n",
    " * RNN layer using LSTM cell\n",
    " * projection layer (bias, no activation) projecting RNN outputs to logits of size(vocabulary)\n",
    " * softmax layer providing us with nex_word probability distribution.\n",
    " \n",
    "So far, both graps are the same."
   ]
  },
  {
   "cell_type": "code",
   "execution_count": 6,
   "metadata": {
    "collapsed": true
   },
   "outputs": [],
   "source": [
    "num_steps = max_len  # max. number of timesteps\n",
    "embeding_size = 100\n",
    "input_size = X.shape[0]\n",
    "batch_size = 32\n",
    "lstm_size = 100 # n_hidden and state_size?"
   ]
  },
  {
   "cell_type": "code",
   "execution_count": 7,
   "metadata": {
    "collapsed": true
   },
   "outputs": [],
   "source": [
    "tf.reset_default_graph()\n",
    "sess = tf.InteractiveSession()"
   ]
  },
  {
   "cell_type": "code",
   "execution_count": 8,
   "metadata": {
    "collapsed": true
   },
   "outputs": [],
   "source": [
    "def build_model(input_, input_lengths, target):\n",
    "    # Embedding layer\n",
    "    embedding = tf.get_variable('E', initializer=tf.truncated_normal([vocab_size, embeding_size]))   # [V, E]\n",
    "    embedded_input = tf.nn.embedding_lookup(embedding, input_) # [B, T, E]\n",
    "\n",
    "    # RNN layer\n",
    "    lstm = tf.contrib.rnn.BasicLSTMCell(lstm_size)\n",
    "    outputs, final_state = tf.nn.dynamic_rnn(lstm, embedded_input, dtype=tf.float32, sequence_length=input_lengths)\n",
    "\n",
    "    # Projection and softmax\n",
    "    softmax_w = tf.get_variable('W_softmax', initializer=tf.truncated_normal([lstm_size, vocab_size]), dtype=tf.float32)   # [lstm_size, V]\n",
    "    softmax_b = tf.get_variable('b_softmax', initializer=tf.zeros([vocab_size]))   # [V]\n",
    "    logits = tf.tensordot(outputs, softmax_w, axes=[[2],[0]]) + tf.reshape(softmax_b, [1,1,-1]) # [B, T, V]\n",
    "    probabilities = tf.nn.softmax(logits) # [B, T, V]\n",
    "    return logits, probabilities"
   ]
  },
  {
   "cell_type": "code",
   "execution_count": 9,
   "metadata": {
    "collapsed": true
   },
   "outputs": [],
   "source": [
    "train_input = tf.placeholder(tf.int32, [batch_size, num_steps], name='train_input')   # [B, T]\n",
    "train_input_lengths = tf.placeholder(tf.int32, [batch_size], name='train_input_lengths')   # [B]\n",
    "train_target  = tf.placeholder(tf.int32, [batch_size, num_steps], name='train_target')   # [B, T]\n",
    "\n",
    "eval_input = tf.placeholder(tf.int32, [input_size, num_steps], name='eval_input')\n",
    "eval_input_lengths = tf.placeholder(tf.int32, [input_size], name='eval_input_lengths')\n",
    "eval_target  = tf.placeholder(tf.int32, [input_size, num_steps], name='eval_target')"
   ]
  },
  {
   "cell_type": "code",
   "execution_count": 10,
   "metadata": {},
   "outputs": [],
   "source": [
    "with tf.variable_scope('root'):\n",
    "    train_logits, train_probas = build_model(train_input, train_input_lengths, train_target)\n",
    "with tf.variable_scope('root', reuse=True):\n",
    "    eval_logits, eval_probas = build_model(eval_input, eval_input_lengths, eval_target)"
   ]
  },
  {
   "cell_type": "markdown",
   "metadata": {},
   "source": [
    "## Calculate loss\n",
    "\n",
    "Two losses are considered here. One is classic categorical cross-entropy which is used currently. The second one is taken from the Show and tell paper and it is a negative likelihood of a correct (target) word for each step:\n",
    "$$\\mathrm{loss} = - \\sum_t \\log p(\\mathrm{correct\\_word}_t)$$.\n",
    "Both of them are averaged over number of sentences and over number of words in a sentence.\n",
    "\n",
    "The loss is added to both of the graphs."
   ]
  },
  {
   "cell_type": "code",
   "execution_count": 11,
   "metadata": {
    "collapsed": true
   },
   "outputs": [],
   "source": [
    "# https://stackoverflow.com/a/42606537\n",
    "gather_p = lambda params, indices : tf.gather_nd(params, tf.stack([tf.tile(tf.expand_dims(tf.range(tf.shape(indices)[0]), 1), [1, tf.shape(indices)[1]]), tf.transpose(tf.tile(tf.expand_dims(tf.range(tf.shape(indices)[1]), 1), [1, tf.shape(indices)[0]])), indices], 2))"
   ]
  },
  {
   "cell_type": "code",
   "execution_count": 12,
   "metadata": {
    "collapsed": true
   },
   "outputs": [],
   "source": [
    "def build_loss_xent(logits, targets, input_lengths):\n",
    "    ''' Crossentropy between probas and one-hot target. '''\n",
    "    l = tf.nn.sparse_softmax_cross_entropy_with_logits(logits=logits, labels=targets)\n",
    "    mask = tf.sequence_mask(input_lengths, maxlen=num_steps, dtype=tf.float32) # [B, T]\n",
    "    masked_l = tf.multiply(l, mask)   # [B, T]. Masking by seq. lenghts\n",
    "    loss = tf.reduce_sum(masked_l) / tf.reduce_sum(mask)\n",
    "    return loss\n",
    "    \n",
    "\n",
    "def build_loss(probabilities, target, input_lengths):\n",
    "    ''' Negative log-likelihood of a correct word. '''\n",
    "    target_probas = gather_p(probabilities, target)   # [B, T]. Probabilities of the correct word\n",
    "    log_likelihood = - tf.log(target_probas)   # [B, T]. Negative log likelihood\n",
    "    mask = tf.sequence_mask(input_lengths, maxlen=num_steps, dtype=tf.float32) # [B, T]\n",
    "    masked_ll = tf.multiply(log_likelihood, mask)   # [B, T]. Masking by seq. lenghts\n",
    "    loss = tf.reduce_sum(masked_ll) / tf.reduce_sum(mask)  # average over number of sentences and over words in sentences\n",
    "    return loss"
   ]
  },
  {
   "cell_type": "code",
   "execution_count": 13,
   "metadata": {},
   "outputs": [],
   "source": [
    "# train_loss = build_loss(train_probas, train_target, train_input_lengths)\n",
    "# eval_loss = build_loss(eval_probas, eval_target, eval_input_lengths)\n",
    "\n",
    "train_loss = build_loss_xent(train_logits, train_target,train_input_lengths)\n",
    "eval_loss = build_loss_xent(eval_logits, eval_target, eval_input_lengths)"
   ]
  },
  {
   "cell_type": "markdown",
   "metadata": {},
   "source": [
    "## Train model\n",
    "\n",
    "Model is trained by feeding mini-batches of sentences. Adam optimizer with learning rate 0.1 is used. The loss on all training set is calculated every 10 steps using eval graph."
   ]
  },
  {
   "cell_type": "code",
   "execution_count": 14,
   "metadata": {
    "collapsed": true
   },
   "outputs": [],
   "source": [
    "learning_rate = 0.1\n",
    "train_op = tf.train.AdamOptimizer(learning_rate).minimize(train_loss)"
   ]
  },
  {
   "cell_type": "code",
   "execution_count": 15,
   "metadata": {
    "collapsed": true
   },
   "outputs": [],
   "source": [
    "sess.run(tf.global_variables_initializer())\n",
    "losses = []\n",
    "step = 0"
   ]
  },
  {
   "cell_type": "code",
   "execution_count": 16,
   "metadata": {
    "scrolled": true
   },
   "outputs": [
    {
     "name": "stdout",
     "output_type": "stream",
     "text": [
      "epoch 1\n",
      "epoch 2\n",
      "epoch 3\n",
      "epoch 4\n",
      "epoch 5\n",
      "epoch 6\n",
      "epoch 7\n",
      "epoch 8\n",
      "epoch 9\n",
      "epoch 10\n",
      "epoch 11\n",
      "epoch 12\n",
      "epoch 13\n",
      "epoch 14\n",
      "epoch 15\n",
      "epoch 16\n",
      "epoch 17\n",
      "epoch 18\n",
      "epoch 19\n",
      "epoch 20\n",
      "epoch 21\n",
      "epoch 22\n",
      "epoch 23\n",
      "epoch 24\n",
      "epoch 25\n",
      "epoch 26\n",
      "epoch 27\n",
      "epoch 28\n",
      "epoch 29\n",
      "epoch 30\n",
      "epoch 31\n",
      "epoch 32\n",
      "epoch 33\n",
      "epoch 34\n",
      "epoch 35\n",
      "epoch 36\n",
      "epoch 37\n",
      "epoch 38\n",
      "epoch 39\n",
      "epoch 40\n",
      "epoch 41\n",
      "epoch 42\n",
      "epoch 43\n",
      "epoch 44\n",
      "epoch 45\n",
      "epoch 46\n",
      "epoch 47\n",
      "epoch 48\n",
      "epoch 49\n",
      "epoch 50\n",
      "epoch 51\n",
      "epoch 52\n",
      "epoch 53\n",
      "epoch 54\n",
      "epoch 55\n",
      "epoch 56\n",
      "epoch 57\n",
      "epoch 58\n",
      "epoch 59\n",
      "epoch 60\n",
      "epoch 61\n",
      "epoch 62\n",
      "epoch 63\n",
      "epoch 64\n",
      "epoch 65\n",
      "epoch 66\n",
      "epoch 67\n",
      "epoch 68\n",
      "epoch 69\n",
      "epoch 70\n",
      "epoch 71\n",
      "epoch 72\n",
      "epoch 73\n",
      "epoch 74\n",
      "epoch 75\n",
      "epoch 76\n",
      "epoch 77\n",
      "epoch 78\n",
      "epoch 79\n",
      "epoch 80\n",
      "epoch 81\n",
      "epoch 82\n",
      "epoch 83\n",
      "epoch 84\n",
      "epoch 85\n",
      "epoch 86\n",
      "epoch 87\n",
      "epoch 88\n",
      "epoch 89\n",
      "epoch 90\n",
      "epoch 91\n",
      "epoch 92\n",
      "epoch 93\n",
      "epoch 94\n",
      "epoch 95\n",
      "epoch 96\n",
      "epoch 97\n",
      "epoch 98\n",
      "epoch 99\n",
      "epoch 100\n",
      "finished\n"
     ]
    }
   ],
   "source": [
    "n_epochs = 100\n",
    "num_batches = train_size // batch_size\n",
    "\n",
    "def train():\n",
    "    global step\n",
    "    for epoch in range(n_epochs):\n",
    "        print('epoch', epoch+1)\n",
    "        idx = np.random.permutation(X.shape[0])\n",
    "        loss_epoch = 0.0\n",
    "        for i in range(num_batches):\n",
    "            step += 1\n",
    "            start = i*batch_size\n",
    "            end = (i+1)*batch_size\n",
    "            b_ids = idx[start:end]\n",
    "            x, y, x_lens = X[b_ids], Y[b_ids], X_lens[b_ids]\n",
    "            sess.run(train_op, feed_dict={\n",
    "                train_input: x, \n",
    "                train_input_lengths: x_lens,\n",
    "                train_target: y\n",
    "            })\n",
    "            if step % 10 == 0:\n",
    "                loss_value = sess.run(eval_loss, feed_dict={\n",
    "                    eval_input: X, \n",
    "                    eval_input_lengths: X_lens,\n",
    "                    eval_target: Y\n",
    "                })\n",
    "                losses.append(loss_value)\n",
    "    print('finished')\n",
    "\n",
    "\n",
    "# %load_ext line_profiler\n",
    "# %lprun -f train train()\n",
    "train()\n",
    "\n",
    "final_loss_value = sess.run(eval_loss, feed_dict={\n",
    "    eval_input: X, \n",
    "    eval_input_lengths: X_lens,\n",
    "    eval_target: Y\n",
    "})"
   ]
  },
  {
   "cell_type": "code",
   "execution_count": 17,
   "metadata": {},
   "outputs": [
    {
     "name": "stdout",
     "output_type": "stream",
     "text": [
      "final loss 0.246972\n"
     ]
    },
    {
     "data": {
      "text/plain": [
       "[<matplotlib.lines.Line2D at 0x11124c50>]"
      ]
     },
     "execution_count": 17,
     "metadata": {},
     "output_type": "execute_result"
    },
    {
     "data": {
      "image/png": "[encoded data removed]",
      "text/plain": [
       "<matplotlib.figure.Figure at 0x114ad518>"
      ]
     },
     "metadata": {},
     "output_type": "display_data"
    }
   ],
   "source": [
    "print('final loss', final_loss_value)\n",
    "plt.semilogy(losses)"
   ]
  },
  {
   "cell_type": "markdown",
   "metadata": {},
   "source": [
    "## Build infer graph\n",
    "\n",
    "The next-word prediction is used to greedily generate sentences. For this purpose, a inference graph is created, that enables us to pass a word and a state of LSTM cell and get the new word and new state.\n",
    "\n",
    "We can see that this simple model is quite overfit, the beginnings of the generated sentences largely match the sentences in the training set. This is on purpose to somewhat demonstrate the correctness that the model can actually learn the data."
   ]
  },
  {
   "cell_type": "code",
   "execution_count": 18,
   "metadata": {
    "collapsed": true
   },
   "outputs": [],
   "source": [
    "def build_inference_graph(input_, input_lengths, state_feed):\n",
    "    # Embedding layer\n",
    "    embedding = tf.get_variable('E', initializer=tf.truncated_normal([vocab_size, embeding_size]))   # [V, E]\n",
    "    embedded_input = tf.nn.embedding_lookup(embedding, input_) # [I, T, E]\n",
    "\n",
    "    # RNN layer\n",
    "    state_tuple = tf.contrib.rnn.LSTMStateTuple(*tf.unstack(state_feed, axis=0))\n",
    "    lstm = tf.contrib.rnn.BasicLSTMCell(lstm_size)\n",
    "    outputs, state = tf.nn.dynamic_rnn(lstm, embedded_input, dtype=tf.float32, sequence_length=input_lengths, initial_state=state_tuple)\n",
    "\n",
    "    # Projection and softmax\n",
    "    softmax_w = tf.get_variable('W_softmax', initializer=tf.truncated_normal([lstm_size, vocab_size]), dtype=tf.float32)   # [lstm_size, V]\n",
    "    softmax_b = tf.get_variable('b_softmax', initializer=tf.zeros([vocab_size]))   # [V]\n",
    "    logits = tf.tensordot(outputs, softmax_w, axes=[[2],[0]]) + tf.reshape(softmax_b, [1,1,-1]) # [B, T, V]\n",
    "    probabilities = tf.nn.softmax(logits) # [B, T, V]\n",
    "    return probabilities, state\n",
    "\n"
   ]
  },
  {
   "cell_type": "code",
   "execution_count": 19,
   "metadata": {},
   "outputs": [],
   "source": [
    "infer_input = tf.placeholder(tf.int32, [None, 1], name='infer_input')   # [I]\n",
    "infer_input_lengths = tf.placeholder(tf.int32, [None], name='infer_input_lengths')   # [I]\n",
    "state_feed = tf.placeholder(dtype=tf.float32, shape=[2, 1, lstm_size], name='state_feed')  # [2, num_layers, lstm_size]\n",
    "\n",
    "with tf.variable_scope('root', reuse=True):\n",
    "    infer_probas, infer_final_state = build_inference_graph(infer_input, infer_input_lengths, state_feed)"
   ]
  },
  {
   "cell_type": "markdown",
   "metadata": {},
   "source": [
    "## Generate text"
   ]
  },
  {
   "cell_type": "code",
   "execution_count": 21,
   "metadata": {},
   "outputs": [
    {
     "name": "stdout",
     "output_type": "stream",
     "text": [
      "START hold it up to the light . '' END START what do you deduce from it ? '' END START i have seldom heard him mention her under any other name . END START grit in a sensitive instrument , or a crack in one of his own high-power lenses , would not be more disturbing than a strong emotion in a nature such as his . END START the note was undated , and without either signature or address . END START he was at work again . END START `` how often ? '' END START `` how many ? END START `` such paper could\n"
     ]
    }
   ],
   "source": [
    "seq = ['START']\n",
    "seq = [word_id[s] for s in seq]\n",
    "state = init_state = np.zeros((2, 1, lstm_size))\n",
    "\n",
    "num_words = 100\n",
    "\n",
    "for i in range(len(seq)-1, num_words):\n",
    "    p, state = sess.run([infer_probas, infer_final_state], feed_dict={\n",
    "        infer_input: np.reshape(seq[-1], (1,1)),\n",
    "        infer_input_lengths: np.array([1]),\n",
    "        state_feed: state\n",
    "    })\n",
    "#     max_id = np.argmax(p)\n",
    "    p = p.reshape([-1])\n",
    "    max_id = np.random.choice(list(range(len(p))), p=p)\n",
    "    seq.append(max_id)\n",
    "    if max_id == word_id[token_end]: # restart the sentence\n",
    "        seq.append(word_id[token_start])\n",
    "        state = init_state\n",
    "print(' '.join(id_word[s] for s in seq))"
   ]
  },
  {
   "cell_type": "code",
   "execution_count": null,
   "metadata": {
    "collapsed": true
   },
   "outputs": [],
   "source": []
  }
 ],
 "metadata": {
  "kernelspec": {
   "display_name": "Python [conda env:pisa-txa]",
   "language": "python",
   "name": "conda-env-pisa-txa-py"
  },
  "language_info": {
   "codemirror_mode": {
    "name": "ipython",
    "version": 3
   },
   "file_extension": ".py",
   "mimetype": "text/x-python",
   "name": "python",
   "nbconvert_exporter": "python",
   "pygments_lexer": "ipython3",
   "version": "3.6.2"
  }
 },
 "nbformat": 4,
 "nbformat_minor": 2
}
