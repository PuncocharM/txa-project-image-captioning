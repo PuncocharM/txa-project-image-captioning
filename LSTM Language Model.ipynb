{
 "cells": [
  {
   "cell_type": "markdown",
   "metadata": {},
   "source": [
    "## TODO:\n",
    "\n",
    " * extract to class in .py file for better code reuse and overall cleanness. Separate the graphs in different sessions so that we can evaluate and infer while training at the same time.\n",
    " * better batching mechanism (maybe the prebuilt in TF)\n",
    " * try different optimizer (SGD with momentum, RMSProp) ?\n",
    " * learning rate decay ?\n",
    " * dropout, more layers, gradient clipping, bidirectional, ... ?\n",
    " * beam search"
   ]
  },
  {
   "cell_type": "code",
   "execution_count": 1,
   "metadata": {
    "collapsed": true
   },
   "outputs": [],
   "source": [
    "import pandas as pd\n",
    "import matplotlib.pyplot as plt\n",
    "%matplotlib inline\n",
    "import numpy as np\n",
    "import re\n",
    "import nltk\n",
    "import tensorflow as tf\n",
    "import itertools"
   ]
  },
  {
   "cell_type": "markdown",
   "metadata": {},
   "source": [
    "## Prepare vocabulary and a training set\n",
    "\n",
    "I load the Sherlock holmes corpus and process it as follows:\n",
    " * All is converted to lowercase, all whitespace collapsed to a single space\n",
    " * nltk is used to tokenize into sentences and words. Special tokens START and END are added to the beginning and end of each sentence\n",
    " * Only the first 500 sentences are used for training (for simplicity and speed of learning)\n",
    " * All words are kept. Later we may drop all words frequent less than a threshold, or replace them with UNKNOWN token\n",
    " * Longer sentences are trimmed to length of 50 words, shorter sentences are padded (and masking is used in the training)."
   ]
  },
  {
   "cell_type": "code",
   "execution_count": 2,
   "metadata": {
    "collapsed": true
   },
   "outputs": [],
   "source": [
    "with open('../txa-hw/hw2/pg1661.txt', encoding='utf-8') as f:\n",
    "    original_text = f.read()\n",
    "# Strip meta info and table of contents at the beginning and licence at the end -> use only the book itself.\n",
    "text = original_text[re.search('ADVENTURE I', original_text).start() : re.search('End of the Project Gutenberg EBook', original_text).start()]\n",
    "text = text.lower().strip()\n",
    "text = re.sub('\\s+', ' ', text) # replace whitespaces with single space"
   ]
  },
  {
   "cell_type": "code",
   "execution_count": 4,
   "metadata": {
    "collapsed": true
   },
   "outputs": [],
   "source": [
    "sentences = nltk.sent_tokenize(text)\n",
    "\n",
    "token_start = 'START'\n",
    "token_end = 'END'\n",
    "tok_sentences = [[token_start] + [w for w in nltk.word_tokenize(s) if w] + [token_end] for s in sentences]\n",
    "\n",
    "train_size = 500  # limit training set to this number of first sentences\n",
    "tok_sentences = tok_sentences[:train_size]"
   ]
  },
  {
   "cell_type": "code",
   "execution_count": 5,
   "metadata": {
    "collapsed": true
   },
   "outputs": [],
   "source": [
    "freq_dist = nltk.FreqDist(itertools.chain(*tok_sentences))\n",
    "\n",
    "freq_threshold = 0\n",
    "vocab = [(k,v) for k,v in freq_dist.items() if v >= freq_threshold]\n",
    "vocab_size = len(vocab)\n",
    "id_word = [v[0] for v in vocab]\n",
    "word_id = {w:i for i,w in enumerate(id_word)}\n",
    "\n",
    "# drop all words not in vocabulary (less frequent than freq_threshold)\n",
    "# maybe to replace them with special token would be better?\n",
    "# now we actually don't drop anything\n",
    "tok_sentences = [[w for w in s if w in word_id] for s in tok_sentences]\n",
    "\n",
    "max_len = 50\n",
    "\n",
    "# cut all sentences to max_len\n",
    "tok_sentences = [s[:max_len] for s in tok_sentences]"
   ]
  },
  {
   "cell_type": "code",
   "execution_count": 6,
   "metadata": {},
   "outputs": [
    {
     "data": {
      "text/plain": [
       "1724"
      ]
     },
     "execution_count": 6,
     "metadata": {},
     "output_type": "execute_result"
    }
   ],
   "source": [
    "vocab_size"
   ]
  },
  {
   "cell_type": "code",
   "execution_count": 7,
   "metadata": {
    "collapsed": true
   },
   "outputs": [],
   "source": [
    "X = [[word_id[w] for w in s[:-1]] for s in tok_sentences]\n",
    "Y = [[word_id[w] for w in s[1:]] for s in tok_sentences]  # shift-by-1 X, next-word prediction\n",
    "\n",
    "X_lens = np.asarray([len(x) for x in X])\n",
    "# Y_lens = [len(y) for y in Y]\n",
    "\n",
    "# pad with zeros to max_len\n",
    "X = np.asarray([np.pad(x, (0,max_len-len(x)), 'constant') for x in X])\n",
    "Y = np.asarray([np.pad(y, (0,max_len-len(y)), 'constant') for y in Y])"
   ]
  },
  {
   "cell_type": "markdown",
   "metadata": {},
   "source": [
    "## Build train and eval graphs\n",
    "\n",
    "Two TensorFlow graphs are built. One for training and second for evaluation.\n",
    "\n",
    "Architecture:\n",
    " * embedding layer (no bias, no activation) maps word indices to a dense vectors\n",
    " * RNN layer using LSTM cell\n",
    " * projection layer (bias, no activation) projecting RNN outputs to logits of size(vocabulary)\n",
    " * softmax layer providing us with nex_word probability distribution.\n",
    " \n",
    "So far, both graps are the same."
   ]
  },
  {
   "cell_type": "code",
   "execution_count": 8,
   "metadata": {
    "collapsed": true
   },
   "outputs": [],
   "source": [
    "num_steps = max_len  # max. number of timesteps\n",
    "embeding_size = 100\n",
    "input_size = X.shape[0]\n",
    "batch_size = 32\n",
    "lstm_size = 100 # n_hidden and state_size?"
   ]
  },
  {
   "cell_type": "code",
   "execution_count": 26,
   "metadata": {
    "collapsed": true
   },
   "outputs": [],
   "source": [
    "tf.reset_default_graph()\n",
    "sess = tf.InteractiveSession()"
   ]
  },
  {
   "cell_type": "code",
   "execution_count": 27,
   "metadata": {
    "collapsed": true
   },
   "outputs": [],
   "source": [
    "def build_model(input_, input_lengths, target):\n",
    "    # Embedding layer\n",
    "    embedding = tf.get_variable('E', initializer=tf.truncated_normal([vocab_size, embeding_size]))   # [V, E]\n",
    "    embedded_input = tf.nn.embedding_lookup(embedding, input_) # [B, T, E]\n",
    "\n",
    "    # RNN layer\n",
    "    lstm = tf.contrib.rnn.BasicLSTMCell(lstm_size)\n",
    "    outputs, final_state = tf.nn.dynamic_rnn(lstm, embedded_input, dtype=tf.float32, sequence_length=input_lengths)\n",
    "\n",
    "    # Projection and softmax\n",
    "    softmax_w = tf.get_variable('W_softmax', initializer=tf.truncated_normal([lstm_size, vocab_size]), dtype=tf.float32)   # [lstm_size, V]\n",
    "    softmax_b = tf.get_variable('b_softmax', initializer=tf.zeros([vocab_size]))   # [V]\n",
    "    logits = tf.tensordot(outputs, softmax_w, axes=[[2],[0]]) + tf.reshape(softmax_b, [1,1,-1]) # [B, T, V]\n",
    "#     probabilities = tf.nn.softmax(logits) # [B, T, V]\n",
    "    return logits"
   ]
  },
  {
   "cell_type": "code",
   "execution_count": 28,
   "metadata": {
    "collapsed": true
   },
   "outputs": [],
   "source": [
    "train_input = tf.placeholder(tf.int32, [batch_size, num_steps], name='train_input')   # [B, T]\n",
    "train_input_lengths = tf.placeholder(tf.int32, [batch_size], name='train_input_lengths')   # [B]\n",
    "train_target  = tf.placeholder(tf.int32, [batch_size, num_steps], name='train_target')   # [B, T]\n",
    "\n",
    "eval_input = tf.placeholder(tf.int32, [input_size, num_steps], name='eval_input')\n",
    "eval_input_lengths = tf.placeholder(tf.int32, [input_size], name='eval_input_lengths')\n",
    "eval_target  = tf.placeholder(tf.int32, [input_size, num_steps], name='eval_target')"
   ]
  },
  {
   "cell_type": "code",
   "execution_count": 29,
   "metadata": {
    "collapsed": true
   },
   "outputs": [],
   "source": [
    "with tf.variable_scope('root'):\n",
    "    train_logits = build_model(train_input, train_input_lengths, train_target)\n",
    "with tf.variable_scope('root', reuse=True):\n",
    "    eval_logits = build_model(eval_input, eval_input_lengths, eval_target)"
   ]
  },
  {
   "cell_type": "markdown",
   "metadata": {},
   "source": [
    "## Calculate loss\n",
    "\n",
    "The loss is categorical cross-entropy which is equal to a negative log-likelihood of a correct (target) word for each step:\n",
    "$$\\mathrm{loss} = - \\sum_t \\log p(\\mathrm{correct\\_word}_t)$$.\n",
    "It is averaged over number of sentences and over number of words in a sentence.\n",
    "\n",
    "The loss is added to both of the graphs."
   ]
  },
  {
   "cell_type": "code",
   "execution_count": 30,
   "metadata": {
    "collapsed": true
   },
   "outputs": [],
   "source": [
    "def build_loss(logits, targets, input_lengths):\n",
    "    ''' Crossentropy between probas and one-hot target = negative log-likelihood of a correct word. '''\n",
    "    l = tf.nn.sparse_softmax_cross_entropy_with_logits(logits=logits, labels=targets)\n",
    "    mask = tf.sequence_mask(input_lengths, maxlen=num_steps, dtype=tf.float32) # [B, T]\n",
    "    masked_l = tf.multiply(l, mask)   # [B, T]. Masking by seq. lenghts\n",
    "    loss = tf.reduce_sum(masked_l) / tf.reduce_sum(mask)\n",
    "    return loss"
   ]
  },
  {
   "cell_type": "code",
   "execution_count": 31,
   "metadata": {
    "collapsed": true
   },
   "outputs": [],
   "source": [
    "train_loss = build_loss(train_logits, train_target, train_input_lengths)\n",
    "eval_loss = build_loss(eval_logits, eval_target, eval_input_lengths)"
   ]
  },
  {
   "cell_type": "markdown",
   "metadata": {},
   "source": [
    "## Train model\n",
    "\n",
    "Model is trained by feeding mini-batches of sentences. Adam optimizer with learning rate 0.1 is used. The loss on all training set is calculated every 10 steps using eval graph."
   ]
  },
  {
   "cell_type": "code",
   "execution_count": 32,
   "metadata": {},
   "outputs": [],
   "source": [
    "learning_rate = 0.01\n",
    "train_op = tf.train.AdamOptimizer(learning_rate).minimize(train_loss)"
   ]
  },
  {
   "cell_type": "code",
   "execution_count": 33,
   "metadata": {
    "collapsed": true
   },
   "outputs": [],
   "source": [
    "sess.run(tf.global_variables_initializer())\n",
    "losses = []\n",
    "step = 0"
   ]
  },
  {
   "cell_type": "code",
   "execution_count": 34,
   "metadata": {
    "scrolled": true
   },
   "outputs": [
    {
     "name": "stdout",
     "output_type": "stream",
     "text": [
      "epoch 1\n",
      "epoch 2\n",
      "epoch 3\n",
      "epoch 4\n",
      "epoch 5\n",
      "epoch 6\n",
      "epoch 7\n",
      "epoch 8\n",
      "epoch 9\n",
      "epoch 10\n",
      "epoch 11\n",
      "epoch 12\n",
      "epoch 13\n",
      "epoch 14\n",
      "epoch 15\n",
      "epoch 16\n",
      "epoch 17\n",
      "epoch 18\n",
      "epoch 19\n",
      "epoch 20\n",
      "finished\n"
     ]
    }
   ],
   "source": [
    "n_epochs = 20\n",
    "num_batches = train_size // batch_size\n",
    "\n",
    "def train():\n",
    "    global step\n",
    "    for epoch in range(n_epochs):\n",
    "        print('epoch', epoch+1)\n",
    "        idx = np.random.permutation(X.shape[0])\n",
    "        loss_epoch = 0.0\n",
    "        for i in range(num_batches):\n",
    "            step += 1\n",
    "            start = i*batch_size\n",
    "            end = (i+1)*batch_size\n",
    "            b_ids = idx[start:end]\n",
    "            x, y, x_lens = X[b_ids], Y[b_ids], X_lens[b_ids]\n",
    "            sess.run(train_op, feed_dict={\n",
    "                train_input: x, \n",
    "                train_input_lengths: x_lens,\n",
    "                train_target: y\n",
    "            })\n",
    "            if step % 10 == 0:\n",
    "                loss_value = sess.run(eval_loss, feed_dict={\n",
    "                    eval_input: X, \n",
    "                    eval_input_lengths: X_lens,\n",
    "                    eval_target: Y\n",
    "                })\n",
    "                losses.append(loss_value)\n",
    "    print('finished')\n",
    "\n",
    "\n",
    "# %load_ext line_profiler\n",
    "# %lprun -f train train()\n",
    "train()\n",
    "\n",
    "final_loss_value = sess.run(eval_loss, feed_dict={\n",
    "    eval_input: X, \n",
    "    eval_input_lengths: X_lens,\n",
    "    eval_target: Y\n",
    "})"
   ]
  },
  {
   "cell_type": "code",
   "execution_count": 35,
   "metadata": {},
   "outputs": [
    {
     "name": "stdout",
     "output_type": "stream",
     "text": [
      "final loss 0.410672\n"
     ]
    },
    {
     "data": {
      "text/plain": [
       "[<matplotlib.lines.Line2D at 0x14d6b0f0>]"
      ]
     },
     "execution_count": 35,
     "metadata": {},
     "output_type": "execute_result"
    },
    {
     "data": {
      "image/png": "[encoded data removed]",
      "text/plain": [
       "<matplotlib.figure.Figure at 0x15317e10>"
      ]
     },
     "metadata": {},
     "output_type": "display_data"
    }
   ],
   "source": [
    "print('final loss', final_loss_value)\n",
    "plt.semilogy(losses)"
   ]
  },
  {
   "cell_type": "markdown",
   "metadata": {},
   "source": [
    "## Build infer graph\n",
    "\n",
    "The next-word prediction is used to greedily generate sentences. For this purpose, a inference graph is created, that enables us to pass a word and a state of LSTM cell and get the new word and new state.\n",
    "\n",
    "We can see that this simple model is quite overfit, the beginnings of the generated sentences largely match the sentences in the training set. This is on purpose to somewhat demonstrate the correctness that the model can actually learn the data."
   ]
  },
  {
   "cell_type": "code",
   "execution_count": 36,
   "metadata": {
    "collapsed": true
   },
   "outputs": [],
   "source": [
    "def build_inference_graph(input_, input_lengths, state_feed):\n",
    "    # Embedding layer\n",
    "    embedding = tf.get_variable('E', initializer=tf.truncated_normal([vocab_size, embeding_size]))   # [V, E]\n",
    "    embedded_input = tf.nn.embedding_lookup(embedding, input_) # [I, T, E]\n",
    "\n",
    "    # RNN layer\n",
    "    state_tuple = tf.contrib.rnn.LSTMStateTuple(*tf.unstack(state_feed, axis=0))\n",
    "    lstm = tf.contrib.rnn.BasicLSTMCell(lstm_size)\n",
    "    outputs, state = tf.nn.dynamic_rnn(lstm, embedded_input, dtype=tf.float32, sequence_length=input_lengths, initial_state=state_tuple)\n",
    "\n",
    "    # Projection and softmax\n",
    "    softmax_w = tf.get_variable('W_softmax', initializer=tf.truncated_normal([lstm_size, vocab_size]), dtype=tf.float32)   # [lstm_size, V]\n",
    "    softmax_b = tf.get_variable('b_softmax', initializer=tf.zeros([vocab_size]))   # [V]\n",
    "    logits = tf.tensordot(outputs, softmax_w, axes=[[2],[0]]) + tf.reshape(softmax_b, [1,1,-1]) # [B, T, V]\n",
    "    probabilities = tf.nn.softmax(logits) # [B, T, V]\n",
    "    return probabilities, state\n",
    "\n"
   ]
  },
  {
   "cell_type": "code",
   "execution_count": 37,
   "metadata": {
    "collapsed": true
   },
   "outputs": [],
   "source": [
    "infer_input = tf.placeholder(tf.int32, [None, 1], name='infer_input')   # [I]\n",
    "infer_input_lengths = tf.placeholder(tf.int32, [None], name='infer_input_lengths')   # [I]\n",
    "state_feed = tf.placeholder(dtype=tf.float32, shape=[2, 1, lstm_size], name='state_feed')  # [2, num_layers, lstm_size]\n",
    "\n",
    "with tf.variable_scope('root', reuse=True):\n",
    "    infer_probas, infer_final_state = build_inference_graph(infer_input, infer_input_lengths, state_feed)"
   ]
  },
  {
   "cell_type": "markdown",
   "metadata": {},
   "source": [
    "## Generate text"
   ]
  },
  {
   "cell_type": "code",
   "execution_count": 39,
   "metadata": {},
   "outputs": [
    {
     "name": "stdout",
     "output_type": "stream",
     "text": [
      "to me , who knew his every mood and habit , his attitude and manner told their own story . END \n",
      "just a trifle more , i fancy , watson . END \n",
      "`` wedlock suits you , '' he remarked . END \n",
      "they had driven him home a dozen times from serpentine-mews , and knew all about him . END \n",
      "bring him into the principal room , i should had to go , and would himself three in the of my work anything i told like to their , or what i ended by the purpose of my easy look . '' END \n",
      "and good-night , watson , '' he added , as the wheels of the royal brougham rolled down the street . END \n",
      "there is a comfortable sofa . END \n",
      "they did not know how to look . '' END \n",
      "`` you had been no turner ? '' END \n",
      "holmes took a note of it . END \n",
      "`` it is quite a pretty little problem , '' said he . END \n",
      "`` if you will be good enough to call to-morrow afternoon at three o'clock i should like to chat this little matter over with you . '' END \n",
      "in this case i found her biography sandwiched in between that of a hebrew rabbi and that of a staff-commander who had written a monograph upon the deep-sea fishes . END \n",
      "the landlady informed me that he had left the house shortly after eight o'clock in the morning . END \n",
      "besides , remember that she had resolved to use it within a few days . END \n",
      "`` pshaw ! END \n",
      "that is just my point . END \n",
      "`` is briony lodge , serpentine avenue , st. john 's wood . '' END \n",
      "holmes scribbled a receipt upon a sheet of his note-book and handed it to him . END \n",
      "`` eglow , eglonitz -- here we are , egria . END \n",
      "`` yes , '' he continued , glancing out of the window . END \n",
      "they were all three standing in a knot in front of the altar . END \n",
      "`` and irene adler ? '' END \n",
      "a man ? '' END \n",
      "`` the landau with their -- . END \n",
      "`` but a very serious is to me . END \n",
      "in two hours we must be on the scene of action . END \n",
      "`` quite so ; but the sequel was rather unusual . END \n",
      "`` i am about to be married . '' END \n",
      "it is nearly five now . END \n",
      "`` then how many are there ? '' END \n",
      "the man sprang from his chair and paced up and down the room in uncontrollable agitation . END \n",
      "but i hear the rumble of wheels . END \n",
      "boots which extended halfway up his calves , and which were trimmed at the tops with rich brown fur , completed the impression of barbaric opulence which was suggested by his whole appearance . END \n",
      "`` very , indeed such paper "
     ]
    }
   ],
   "source": [
    "seq = ['START']\n",
    "seq = [word_id[s] for s in seq]\n",
    "state = init_state = np.zeros((2, 1, lstm_size))\n",
    "\n",
    "num_words = 500\n",
    "\n",
    "for i in range(len(seq)-1, num_words):\n",
    "    p, state = sess.run([infer_probas, infer_final_state], feed_dict={\n",
    "        infer_input: np.reshape(seq[-1], (1,1)),\n",
    "        infer_input_lengths: np.array([1]),\n",
    "        state_feed: state\n",
    "    })\n",
    "#     max_id = np.argmax(p)\n",
    "    p = p.reshape([-1])\n",
    "    max_id = np.random.choice(list(range(len(p))), p=p)\n",
    "    seq.append(max_id)\n",
    "    print(id_word[max_id], end=' ')\n",
    "    if max_id == word_id[token_end]: # restart the sentence\n",
    "        print()\n",
    "        seq.append(word_id[token_start])\n",
    "        state = init_state"
   ]
  },
  {
   "cell_type": "code",
   "execution_count": null,
   "metadata": {
    "collapsed": true
   },
   "outputs": [],
   "source": []
  }
 ],
 "metadata": {
  "kernelspec": {
   "display_name": "Python [conda env:pisa-txa]",
   "language": "python",
   "name": "conda-env-pisa-txa-py"
  },
  "language_info": {
   "codemirror_mode": {
    "name": "ipython",
    "version": 3
   },
   "file_extension": ".py",
   "mimetype": "text/x-python",
   "name": "python",
   "nbconvert_exporter": "python",
   "pygments_lexer": "ipython3",
   "version": "3.6.2"
  }
 },
 "nbformat": 4,
 "nbformat_minor": 2
}
